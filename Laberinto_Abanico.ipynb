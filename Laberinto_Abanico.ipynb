{
  "nbformat": 4,
  "nbformat_minor": 0,
  "metadata": {
    "colab": {
      "provenance": [],
      "authorship_tag": "ABX9TyMR+g9bfNk1CYwQ/VxfXjbt",
      "include_colab_link": true
    },
    "kernelspec": {
      "name": "python3",
      "display_name": "Python 3"
    },
    "language_info": {
      "name": "python"
    }
  },
  "cells": [
    {
      "cell_type": "markdown",
      "metadata": {
        "id": "view-in-github",
        "colab_type": "text"
      },
      "source": [
        "<a href=\"https://colab.research.google.com/github/roquearmas/pruebasIA/blob/main/Laberinto_Abanico.ipynb\" target=\"_parent\"><img src=\"https://colab.research.google.com/assets/colab-badge.svg\" alt=\"Open In Colab\"/></a>"
      ]
    },
    {
      "cell_type": "markdown",
      "source": [
        "**1 Crear el MAZE** como un numpy array de 10x10 relleno de ceros\n",
        "\n",
        "**2 Ponerle los bordes a 0** dibujar los bordes\n"
      ],
      "metadata": {
        "id": "nU9-bnlQDPr_"
      }
    },
    {
      "cell_type": "code",
      "execution_count": null,
      "metadata": {
        "id": "h0aBRz03DNKT"
      },
      "outputs": [],
      "source": [
        "import random\n",
        "import numpy as np\n",
        "import matplotlib.pyplot as plt\n",
        "from collections import deque\n",
        "from IPython.display import clear_output\n",
        "\n",
        "def crear_maze(n,p):\n",
        "  #n número de filas y columnas\n",
        "  #p - porcentaje de obstáculos\n",
        "  matriz_nueva = np.zeros([n, n],dtype = int)\n",
        "  for i in range(1,n-1):\n",
        "    for j in range(1,n-1):\n",
        "      # creo todas las celdas como posibles caminos, celdas transitables\n",
        "      matriz_nueva[i][j] =127  #CAMINOS\n",
        "      #creo los bordes (muros)\n",
        "      if i==0 or j==0 or i==n-1 or j==n-1:\n",
        "        matriz_nueva[i][j] =0 #MUROS\n",
        "      ''' para el calculo del porcentaje, hacemos un random entre 1 y el número de filas y columnas del laberinto\n",
        "          por regla de tres, p es a 100 como p_adaptado es a n*n\n",
        "          si el número al azar es menor o igual al porcentaje adaptado, ponemos un obstáculo'''\n",
        "      p_adaptado =p*n*n/100\n",
        "      if random.randint(0, n*n) < p_adaptado:\n",
        "        if i!=0 and i!=n-1 and j!=0 and j!=n-1:\n",
        "          matriz_nueva[i][j] = 25 #OBSTACULOS\n",
        "  matriz_nueva[1,1]=255 #entrada\n",
        "  matriz_nueva[n-2,n-2]=176 #salida\n",
        "\n",
        "  return matriz_nueva\n"
      ]
    },
    {
      "cell_type": "markdown",
      "source": [
        "**3 Crea la matriz MARK** copia de MAZE.\n"
      ],
      "metadata": {
        "id": "ZcM1xBEUcY90"
      }
    },
    {
      "cell_type": "code",
      "source": [
        "def crear_mark(n):\n",
        "  matriz_nueva = np.zeros([n,n],dtype = int)\n",
        "  for i in range(n):\n",
        "    for j in range(n):\n",
        "      #creo los bordes\n",
        "      if i==0 or j==0 or i==99 or j==99:\n",
        "        matriz_nueva[i][j] =0 #MUROS\n",
        "  return matriz_nueva\n",
        "\n"
      ],
      "metadata": {
        "id": "5dDERCUtcYYB"
      },
      "execution_count": null,
      "outputs": []
    },
    {
      "cell_type": "markdown",
      "source": [
        "Puedes visualizarla llamando a la siguiente función (importando las\n",
        "librerías):"
      ],
      "metadata": {
        "id": "caKob_orc9WT"
      }
    },
    {
      "cell_type": "code",
      "source": [
        "def dibujar_matriz(matriz):\n",
        "  plt.figure()\n",
        "  plt.imshow(matriz)\n",
        "  plt.grid(False)\n",
        "  plt.show()"
      ],
      "metadata": {
        "id": "pHHI2v3fdLoi"
      },
      "execution_count": null,
      "outputs": []
    },
    {
      "cell_type": "markdown",
      "source": [
        "4 Crear la matriz de movimiento MOVE\n",
        "\n",
        "\n",
        "![image.png](data:image/png;base64,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)\n",
        "\n",
        "Al añadir las diagonales, los movimientos nuevos serían :\n",
        "\n",
        "![image.png](data:image/png;base64,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) ![image.png](data:image/png;base64,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)\n",
        "\n",
        "Donde *t* es el movimiento a realizar y *x*, e *y*, las variaciones en la posición que resultan de dicho movimiento."
      ],
      "metadata": {
        "id": "hV-mFnAudxJ7"
      }
    },
    {
      "cell_type": "code",
      "source": [
        "def crear_move(diagonales):\n",
        "  #creo los primeros cuatro movimientos y, como la mitad de los valores son 0, utilizo numpy.zeros\n",
        "  if diagonales =='S':\n",
        "    move_new=np.zeros([8,2],dtype=int) # Si se ha elegido la opción de utilizar las diagonales, son 8 movimientos posibles\n",
        "  else :\n",
        "    move_new=np.zeros([4,2],dtype=int) # Si no se han elegido las diagonales, sólo son 4\n",
        "  move_new[0][1]=-1\n",
        "  move_new[1][0]=1\n",
        "  move_new[2][1]=1\n",
        "  move_new[3][0]=-1\n",
        "  #move= [(0, -1),  (1, 0),(0, 1), (-1, 0)]\n",
        "\n",
        "  if diagonales =='S':\n",
        "    # Siguiendo el esquema, añadimos los movimientos en diagonal\n",
        "    move_new[4][0]=-1\n",
        "    move_new[4][1]=-1\n",
        "    move_new[5][0]= 1\n",
        "    move_new[5][1]=-1\n",
        "    move_new[6][0]= 1\n",
        "    move_new[6][1]= 1\n",
        "    move_new[7][0]=-1\n",
        "    move_new[7][1]= 1\n",
        "    #move= [(0, -1),  (1, 0),(0, 1), (-1, 0),(-1,-1),(1,-1),(1,1),(-1,1)]\n",
        "  return move_new"
      ],
      "metadata": {
        "id": "1trTFl60db78"
      },
      "execution_count": null,
      "outputs": []
    },
    {
      "cell_type": "markdown",
      "source": [
        "**5 Crea una clase Agente** con los atributos x e y que almacenan su posición actual y el método mover(2) al que se le pasa un valor de 0 a 3 y modifica sus coordenadas de la manera indicada\n",
        "en las flechas.\n"
      ],
      "metadata": {
        "id": "ohHWvmvxddBq"
      }
    },
    {
      "cell_type": "code",
      "source": [
        "class Agente:\n",
        "  def __init__(self, x, y):\n",
        "    self.x = x\n",
        "    self.y = y\n",
        "  def mover(self, t):\n",
        "      dir_x = move[t][0]\n",
        "      dir_y = move[t][1]\n",
        "      self.x += dir_x\n",
        "      self.y += dir_y"
      ],
      "metadata": {
        "id": "rzv7Ragnenha"
      },
      "execution_count": null,
      "outputs": []
    },
    {
      "cell_type": "markdown",
      "source": [
        "Para la búsqueda en anchura se usa una *Cola* y para el recorrido en profundidad la *Pila*.\n",
        "En la cola se almacenan las posiciones visitadas, para ello es interesante crear una clase llamada ***Place*** que contendrá los atributos la fila y columna."
      ],
      "metadata": {
        "id": "3AF26G-FIi5g"
      }
    },
    {
      "cell_type": "code",
      "source": [
        "class Place:\n",
        "  def __init__(self,columna, fila ):\n",
        "    self.columna = columna\n",
        "    self.fila = fila\n",
        "  def mostrar (self):\n",
        "    print(\"(\" + str(self.columna) + \",\" + str(self.fila) + \")\")"
      ],
      "metadata": {
        "id": "kzYmE9v9VnAB"
      },
      "execution_count": null,
      "outputs": []
    },
    {
      "cell_type": "markdown",
      "source": [
        "Creo la función ***posicion_visitada (x,y)*** para saber si la búsqueda ha pasado por esa celda\n"
      ],
      "metadata": {
        "id": "WDMhoDgdYQta"
      }
    },
    {
      "cell_type": "code",
      "source": [
        "def posicion_visitada(x,y):\n",
        "  if mark[x][y] ==0:\n",
        "    return False\n",
        "  else:\n",
        "    return True"
      ],
      "metadata": {
        "id": "UsIeliM9YcB7"
      },
      "execution_count": null,
      "outputs": []
    },
    {
      "cell_type": "markdown",
      "source": [
        "Elimino los posibles duplicados que pueda haber en la cola"
      ],
      "metadata": {
        "id": "YmJW7w3HsjQd"
      }
    },
    {
      "cell_type": "code",
      "source": [
        "def eliminar_duplicados(cola):\n",
        "  # Convierto la cola a un conjunto.\n",
        "  conjunto = set(cola)\n",
        "\n",
        "  # Creo una nueva cola con los elementos del conjunto.\n",
        "  nueva_cola = deque()\n",
        "  for elemento in conjunto:\n",
        "    nueva_cola.append(elemento)\n",
        "  return nueva_cola"
      ],
      "metadata": {
        "id": "8Uo4CrLIsklL"
      },
      "execution_count": null,
      "outputs": []
    },
    {
      "cell_type": "markdown",
      "source": [
        "Método para resolver en abanico, o anchura\n",
        "\n"
      ],
      "metadata": {
        "id": "paGCZJnlslSc"
      }
    },
    {
      "cell_type": "code",
      "source": [
        "def resolver_anchura(maze, mark,move,cola,place, n):\n",
        "  # Mientras haya elementos en la cola\n",
        "  while len(cola)>0:\n",
        "    ''' Sacamos el primer elemento de la cola\n",
        "    pos_actual es una instancia de la clase Place\n",
        "    agente es una instancia de la clase Agente '''\n",
        "    pos_actual = cola.popleft()\n",
        "    agente= Agente(pos_actual.columna,pos_actual.fila)\n",
        "    #mark[pos_actual.columna,pos_actual.fila]=127 #entrada\n",
        "    # Si llegamos a la meta (la última celda)\n",
        "    if pos_actual.fila == n-2 and pos_actual.columna == n-2: # posición(n-2,n-2) - Salida\n",
        "        mark[n-2][n-2]=176\n",
        "        return True\n",
        "    # Para cada vecino del nodo actual\n",
        "    agente.x=pos_actual.columna\n",
        "    agente.y=pos_actual.fila\n",
        "    for direccion in range(len(move)):\n",
        "      #guardo la posición antes del movimiento, por si hay que retroceder\n",
        "      g_old = agente.x\n",
        "      h_old = agente.y\n",
        "      agente.mover(direccion)\n",
        "      g=agente.x\n",
        "      h=agente.y\n",
        "      # Si encuentra la salida, lo escribe en mark y devuelve TRUE\n",
        "      if g==n-2 and h==n-2:\n",
        "        mark[g][h] = 176 #salida\n",
        "        return True\n",
        "      # Si encuentra un muro, lo pinta en MARK\n",
        "      if (g==0 or h==0 or g==n-1 or h==n-1 ) :\n",
        "        mark[g][h] = 0 # Muro\n",
        "      # Si la celda vecina está dentro del laberinto y no ha sido visitada\n",
        "      if g >= 1 and g <= n-2 and h <= n-2 and h >= 1 and not posicion_visitada(g,h):\n",
        "        if maze[g][h] == 127: # camino\n",
        "          # Añado la celda a la cola y lo marco como visitada\n",
        "          mark[g][h] = maze[g][h]\n",
        "          pos_actual=Place(g,h)\n",
        "          cola.append(pos_actual)\n",
        "          cola=eliminar_duplicados(cola)\n",
        "          direccion=len(move)-1\n",
        "        # Si encuentro un obstáculo, lo marco, pero no lo añado a la cola, porque no es una posición desde la que se pueda mover el agente\n",
        "        if maze[g][h] == 25: # obstáculo\n",
        "          mark[g][h] = 25\n",
        "      #devuelvo el agente a la posición inicial, antes de este movimiento, por si quedan movimientos pendientes en el bucle\n",
        "      agente.x=g_old\n",
        "      agente.y=h_old\n",
        "      # redibujo la matriz MARK después de las posibles marcas realizadas\n",
        "      clear_output(wait=True)\n",
        "      dibujar_matriz(mark)\n",
        "  return False\n"
      ],
      "metadata": {
        "id": "awQmlShLYB5N"
      },
      "execution_count": null,
      "outputs": []
    },
    {
      "cell_type": "code",
      "source": [
        "#programa principal\n",
        "#filas y columnas\n",
        "n= int(input('Introduzca las dimensiones n del laberinto (n filas x n columnas):'))\n",
        "#porcentaje de obstáculos\n",
        "p =int(input('Introduzca el porcentaje de obstáculos (0-100):' ))\n",
        "#diagonales\n",
        "d =str(input('Se permiten las diagonales? (S/N):'))\n",
        "maze = crear_maze(n,p)\n",
        "mark =crear_mark(n)\n",
        "move =crear_move(d)\n",
        "dibujar_matriz (maze)\n",
        "\n",
        "# Defino la posición inicial\n",
        "inicio = Place(1,1)\n",
        "# Agregamos la posición inicial a la cola\n",
        "cola = deque()\n",
        "cola.append (inicio)\n",
        "# Defino la posición final\n",
        "\n",
        "#marco la posición inicial en mark, como ya visitada\n",
        "mark[1][1] =255\n",
        "\n",
        "#if resolver_anchura(maze, mark, inicio):\n",
        "if resolver_anchura(maze,mark,move,cola, inicio, n):\n",
        "  solucion='Laberinto resuelto'\n",
        "else:\n",
        "  solucion='El laberinto no se puede resolver'\n",
        "\n",
        "clear_output(wait=True)\n",
        "print (solucion)\n",
        "print('Rutas intentadas')\n",
        "dibujar_matriz (mark)\n",
        "\n",
        "print('Original: ' +  str(n) + 'x' + str(n)  + ' ' + str(p) + '% obstáculos')\n",
        "dibujar_matriz(maze)"
      ],
      "metadata": {
        "id": "fCTkZhPFd8KI",
        "colab": {
          "base_uri": "https://localhost:8080/",
          "height": 895
        },
        "outputId": "2446d5ae-4b4b-4899-d5be-edcc80044d60"
      },
      "execution_count": null,
      "outputs": [
        {
          "output_type": "stream",
          "name": "stdout",
          "text": [
            "Laberinto resuelto\n",
            "Rutas intentadas\n"
          ]
        },
        {
          "output_type": "display_data",
          "data": {
            "text/plain": [
              "<Figure size 640x480 with 1 Axes>"
            ],
            "image/png": "[encoded data removed]"
          },
          "metadata": {}
        },
        {
          "output_type": "stream",
          "name": "stdout",
          "text": [
            "Original: 8x8 16% obstáculos\n"
          ]
        },
        {
          "output_type": "display_data",
          "data": {
            "text/plain": [
              "<Figure size 640x480 with 1 Axes>"
            ],
            "image/png": "[encoded data removed]"
          },
          "metadata": {}
        }
      ]
    }
  ]
}