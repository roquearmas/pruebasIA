{
  "nbformat": 4,
  "nbformat_minor": 0,
  "metadata": {
    "colab": {
      "provenance": [],
      "include_colab_link": true
    },
    "kernelspec": {
      "name": "python3",
      "display_name": "Python 3"
    },
    "language_info": {
      "name": "python"
    }
  },
  "cells": [
    {
      "cell_type": "markdown",
      "metadata": {
        "id": "view-in-github",
        "colab_type": "text"
      },
      "source": [
        "<a href=\"https://colab.research.google.com/github/roquearmas/pruebasIA/blob/main/Viajante_por_evolutivos.ipynb\" target=\"_parent\"><img src=\"https://colab.research.google.com/assets/colab-badge.svg\" alt=\"Open In Colab\"/></a>"
      ]
    },
    {
      "cell_type": "markdown",
      "source": [
        "Crea un programa en Python que resuelva el problema para al menos 5 poblaciones (por ejemplo Telde, Gáldar, etc) usando el algoritmo evolutivo cuyas funciones de mutación y de recombinación vienen descritas en  https://www.youtube.com/watch?v=3Kzj2FNaua8\n",
        "\n",
        "La relación entre los nodos (ciudades) será la siguiente:\n",
        "\n",
        "'0-LPGC','1-Telde','2-Arucas','3-Teror','4-Agaete','5-San Bartolomé de Tirajana'\n",
        "\n",
        "Creo la Matriz de distancias:\n",
        "![image.png](data:image/png;base64,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)"
      ],
      "metadata": {
        "id": "4Df4Dp56hfot"
      }
    },
    {
      "cell_type": "code",
      "source": [
        "def crear_distancias():\n",
        "  matriz_distancias =[[  0,  20, 13, 21, 33, 61],\n",
        "                       [ 20,  0, 26, 15, 51, 46],\n",
        "                       [ 13, 26,  0, 11, 27, 67],\n",
        "                       [ 21, 15, 11,  0, 37, 43],\n",
        "                       [ 33, 51, 27, 37,  0, 99],\n",
        "                       [ 61, 46, 67, 43, 99,  0]]\n",
        "  return matriz_distancias\n"
      ],
      "metadata": {
        "id": "6chsbhuNgoxm"
      },
      "execution_count": 157,
      "outputs": []
    },
    {
      "cell_type": "markdown",
      "source": [
        "Array de ciudades"
      ],
      "metadata": {
        "id": "ovL2IKXkFuSr"
      }
    },
    {
      "cell_type": "code",
      "source": [
        "def crear_ciudades():\n",
        "  array_ciudades = ['LPGC','Telde','Arucas','Teror','Agaete','San Bartolomé de Tirajana']\n",
        "  return array_ciudades"
      ],
      "metadata": {
        "id": "3BWLAT7qFx5V"
      },
      "execution_count": 158,
      "outputs": []
    },
    {
      "cell_type": "markdown",
      "source": [
        "Array de coordenadas\n"
      ],
      "metadata": {
        "id": "jU6g7_EMShZ6"
      }
    },
    {
      "cell_type": "code",
      "source": [
        "def crear_coordenadas():\n",
        "  #array_coordenadas = [[1,8],[5,9],[1,5],[4,4],[3,1],[9,6]]\n",
        "  array_coordenadas = [[8,8],[9,6],[6,7],[5,5],[1,7],[6,1]]\n",
        "  return array_coordenadas"
      ],
      "metadata": {
        "id": "2GKRLJ0RSkhx"
      },
      "execution_count": 216,
      "outputs": []
    },
    {
      "cell_type": "markdown",
      "source": [
        "***Hiperparámetros***\n",
        "\n",
        "**p**  - Número de individuos que constituyen una población\n",
        "\n",
        "**m**  - La cantidad de individuos mejores que trascienden a la siguiete\n",
        "generación\n",
        "\n",
        "**g**  - Número de generaciones que se van a probar\n",
        "\n",
        "**pm** - Probabilidad de mutación. Probabilidad de que un determinado hijo, mute\n",
        "\n",
        "**pr** - Probabilidad de recombinación. Probabilidad de que los genes de dos padres se recombinen"
      ],
      "metadata": {
        "id": "S6A4hlHt0p9v"
      }
    },
    {
      "cell_type": "code",
      "source": [
        "#hiperparámetros\n",
        "p=10\n",
        "m=5\n",
        "g=5\n",
        "pm=10 #En porcentaje. Debe ser baja al principio\n",
        "pr=70 #En porcentaje. Debe ser alta al principio\n",
        "#parámetros iniciales\n",
        "distancia_minima = 400\n",
        "mejor_ruta =np.zeros([7],dtype=int)\n",
        "mejor_ruta = [0, 0, 0, 0, 0, 0, 400]\n"
      ],
      "metadata": {
        "id": "XbDar2sOEpzT"
      },
      "execution_count": 244,
      "outputs": []
    },
    {
      "cell_type": "markdown",
      "source": [
        "Genero la primera población de individuos\n"
      ],
      "metadata": {
        "id": "W6-5JeUHgpiZ"
      }
    },
    {
      "cell_type": "code",
      "source": [
        "import random\n",
        "import numpy as np\n",
        "import matplotlib.pyplot as plt\n",
        "\n",
        "def individuos_iniciales(p):\n",
        "  elementos =np.array ([0,1,2,3,4,5])\n",
        "  permutaciones = np.zeros([p,6], dtype=int)\n",
        "  for i in range(p):\n",
        "    np.random.shuffle(elementos)\n",
        "    for j in range(len(elementos)):\n",
        "        permutaciones[i][j]=elementos[j]\n",
        "  return permutaciones"
      ],
      "metadata": {
        "id": "640jX8RKR7t0"
      },
      "execution_count": 166,
      "outputs": []
    },
    {
      "cell_type": "markdown",
      "source": [
        "Evaluar , con la función de ajuste la validez de la población existente"
      ],
      "metadata": {
        "id": "BlG3sYoAnBOt"
      }
    },
    {
      "cell_type": "code",
      "source": [
        "def ajuste (p_poblacion, p_distancias, p_distancia_minima, p_mejor_ruta):\n",
        "  nueva_generacion = np.zeros([p,7],dtype=int) #matriz que albergará las rutas con sus distancias, las columnas son el número de ciudades, más una, que albergará la suma de distancias entre ellas\n",
        "  p_ruta_minima=p_mejor_ruta\n",
        "  for i in range(len(p_poblacion)):\n",
        "    dist =0\n",
        "    for j in range(5): # número de elementos de la fila -1 porque vamos a ir del elemento 5 al 6, y luego , para cerrar el círculo, calculamos la distancia del elemento 6 al 0, fuera del bucle\n",
        "      ciudad1=p_poblacion[i][j]\n",
        "      ciudad2=p_poblacion[i][j+1]\n",
        "      dist += p_distancias[ciudad1][ciudad2]\n",
        "\n",
        "    #cierro el círculo, calculando la distancia desde el último elemento al primero, de este individuo\n",
        "    ciudad1=p_poblacion [i][0]\n",
        "\n",
        "    #ciudad2 ya está calculada dentro del bucle\n",
        "    dist += p_distancias[ciudad1][ciudad2]\n",
        "    for j in range(6):\n",
        "      nueva_generacion[i][j]=p_poblacion[i][j]\n",
        "    nueva_generacion[i][6]=dist\n",
        "\n",
        "    if dist>0 and dist<=p_distancia_minima :\n",
        "      fila= nueva_generacion[i]\n",
        "      p_mejor_ruta = fila.reshape(7)\n",
        "      p_distancia_minima =dist\n",
        "\n",
        "  return nueva_generacion, p_distancia_minima, p_mejor_ruta"
      ],
      "metadata": {
        "id": "erOPRUUlldl8"
      },
      "execution_count": 234,
      "outputs": []
    },
    {
      "cell_type": "markdown",
      "source": [
        "Método para representar un individuo cualquiera en términos de ciudades"
      ],
      "metadata": {
        "id": "rYs2XhpxGNwq"
      }
    },
    {
      "cell_type": "code",
      "source": [
        "def representar (individuo):\n",
        "  cadena=''\n",
        "  array_ciudades = crear_ciudades()\n",
        "\n",
        "  for i in range(6):\n",
        "    ciudad = individuo[i]\n",
        "    cadena += array_ciudades[ciudad] + ' -> '\n",
        "  cadena += array_ciudades[individuo[0]] + ' -> '\n",
        "  return cadena[:-4]"
      ],
      "metadata": {
        "id": "VyrfriyPGSnq"
      },
      "execution_count": 6,
      "outputs": []
    },
    {
      "cell_type": "markdown",
      "source": [
        "Método para representar las coordenadas de cada ciudad y una flecha que las una, según la ruta óptima"
      ],
      "metadata": {
        "id": "ZuQZDU6zYjgz"
      }
    },
    {
      "cell_type": "code",
      "source": [
        "def representar_coordenadas (ruta):\n",
        "  coordenadas =crear_coordenadas()\n",
        "  ciudades = crear_ciudades()\n",
        "\n",
        "  for i in range(5):\n",
        "    origen = coordenadas[ruta[i]]\n",
        "    x=origen[0]\n",
        "    y=origen[1]\n",
        "    plt.scatter(x, y)\n",
        "    plt.annotate(ciudades[ruta[i]], (x, y))\n",
        "    destino =coordenadas[ruta[i+1]]\n",
        "    # Dibujar una flecha entre las coordenadas origen y destino\n",
        "    plt.arrow(origen[0],origen[1],destino[0]-origen[0],destino[1]-origen[1], head_width=0.1, head_length=0.1, color='blue', linewidth=1)\n",
        "\n",
        "  origen = coordenadas[ruta[5]]\n",
        "  x=origen[0]\n",
        "  y=origen[1]\n",
        "  plt.scatter(x, y)\n",
        "  plt.annotate(ciudades[ruta[5]], (x, y))\n",
        "  destino =coordenadas[ruta[0]]\n",
        "\n",
        "  # Dibujar una flecha entre las coordenadas origen y destino\n",
        "  plt.arrow(origen[0],origen[1],destino[0]-origen[0],destino[1]-origen[1], head_width=0.1, head_length=0.1, color='blue', linewidth=1)\n",
        "\n",
        "  # Mostrar la figura\n",
        "  plt.show()"
      ],
      "metadata": {
        "id": "JPtmDO1rYqur"
      },
      "execution_count": 237,
      "outputs": []
    },
    {
      "cell_type": "markdown",
      "source": [
        "Función de ***selección***, tomamos los p-m elementos peores y los eliminamos de la matriz de seleccion\n"
      ],
      "metadata": {
        "id": "KtT8_rqA07qZ"
      }
    },
    {
      "cell_type": "code",
      "source": [
        "def seleccion ():\n",
        "  #mejores = p_poblacion[np.argpartition(p_poblacion[:,6],m-1)[:m]]\n",
        "  distancia = poblacion[:, 6]\n",
        "  distancias=distancia.argsort()\n",
        "  lista= distancias.tolist()\n",
        "  # Ordenar la matriz en función de los valores de la columna con índice 6, que es la que guarda la distancia entre las ciudades de cada individuo\n",
        "  matriz_ordenada = poblacion[lista]\n",
        "  # Seleccionar las m filas superiores de la matriz ordenada, siempre que haya más elementos que los m mejores\n",
        "  mejores=matriz_ordenada\n",
        "  if len(poblacion)>m+1:\n",
        "    indices = np.arange(m+1)\n",
        "    mejores = matriz_ordenada [indices]\n",
        "  return mejores"
      ],
      "metadata": {
        "id": "LgqmqM9E1EjA"
      },
      "execution_count": 60,
      "outputs": []
    },
    {
      "cell_type": "markdown",
      "source": [
        "Funcion de ***recombinación*** de la matriz de poblacion\n",
        "En función del hiperparámetro de probabilidad de recombinación"
      ],
      "metadata": {
        "id": "RZFF5LJHGxBE"
      }
    },
    {
      "cell_type": "code",
      "source": [
        "def recombinacion (p_poblacion):\n",
        "  padres =0\n",
        "  progenitores = np.zeros((5,7),dtype=np.int32)\n",
        "  for i in range (len(poblacion)-1):\n",
        "    prob_recomb_individuo =random.randint(0, 100) #probabilidad de que este individuo se recombine con otro\n",
        "    if prob_recomb_individuo < pr:\n",
        "      padres+=1\n",
        "      progenitores[padres-1]=poblacion [i]\n",
        "  if padres>1:\n",
        "    for i in range(padres):\n",
        "      if i==padres-1:\n",
        "        if len (p_poblacion)<p-1:\n",
        "          p_poblacion = recombinar (p_poblacion,progenitores[i],progenitores[0])\n",
        "          return np.unique(p_poblacion,axis=0)\n",
        "      else:\n",
        "        if len (p_poblacion)<p-1:\n",
        "          p_poblacion = recombinar (p_poblacion,progenitores[i],progenitores[i+1])\n",
        "  return np.unique(p_poblacion,axis=0)"
      ],
      "metadata": {
        "id": "wcvVL8fKG-gV"
      },
      "execution_count": 43,
      "outputs": []
    },
    {
      "cell_type": "markdown",
      "source": [
        "Al recombinar dos individuos, hago que los elementos de uno sean los índices que voy a buscar en el otro. Los \"hijos\" resultantes serán individuos nuevos que tienen elementos de sus dos progenitores"
      ],
      "metadata": {
        "id": "3UKKBgfwJ1yi"
      }
    },
    {
      "cell_type": "code",
      "source": [
        "def recombinar(p_poblacion,padre1, padre2):\n",
        "  hijo1 = np.zeros((7),dtype=np.int32)\n",
        "  hijo2 = np.zeros((7),dtype=np.int32)\n",
        "\n",
        "  for i in range (len(padre1)-1): #sacamos del bucle la última columna, que representa la distancia\n",
        "    ind1=padre1[i]\n",
        "    ind2=padre2[i]\n",
        "    hijo1[i]= padre2[ind1]\n",
        "    hijo2[i]= padre1[ind2]\n",
        "\n",
        "  prob_mutar_individuo1 =random.randint(0, 100)\n",
        "  prob_mutar_individuo2 =random.randint(0, 100)\n",
        "\n",
        "  #para controlar la poblacion, pregunto primero si no se ha alcanzado el número máximo de individuos\n",
        "  if len (p_poblacion)<(p-1):\n",
        "      if prob_mutar_individuo1<pm:\n",
        "          hijo1=mutar(hijo1)\n",
        "      p_poblacion = np.append(p_poblacion, [hijo1], axis=0)\n",
        "      np.unique(p_poblacion,axis=0)\n",
        "  if len (p_poblacion)<(p-1):\n",
        "      if prob_mutar_individuo2<pm:\n",
        "          hijo2=mutar(hijo2)\n",
        "      p_poblacion = np.append(p_poblacion, [hijo2], axis=0)\n",
        "      np.unique(p_poblacion,axis=0)\n",
        "  return p_poblacion\n"
      ],
      "metadata": {
        "id": "uZzrIkbxJ3iZ"
      },
      "execution_count": 49,
      "outputs": []
    },
    {
      "cell_type": "markdown",
      "source": [
        "Función de ***Mutación*** dado un hijo, intercambiamos las posiciones de dos ciudades al azar"
      ],
      "metadata": {
        "id": "B2vvylNd6XtR"
      }
    },
    {
      "cell_type": "code",
      "source": [
        "def mutar(individuo):\n",
        "    ciudad1 = random.randint(1, len(individuo)-2) #quito 1 porque empieza en 0 y otro pq el ultimo elemento es la distancia\n",
        "    ciudad2 = random.randint(1, len(individuo)-2)\n",
        "    individuo[ciudad1],individuo[ciudad2]= individuo[ciudad2],individuo[ciudad1] # La asignación tiene que ser en una línea para que no se repitan valores\n",
        "    return individuo"
      ],
      "metadata": {
        "id": "nUNyLSss6egi"
      },
      "execution_count": 116,
      "outputs": []
    },
    {
      "cell_type": "markdown",
      "source": [
        "***Programa principal***\n"
      ],
      "metadata": {
        "id": "csOFFiYWr-Rl"
      }
    },
    {
      "cell_type": "code",
      "source": [
        "poblacion = individuos_iniciales(p)\n",
        "print('Población inicial')\n",
        "print(poblacion)\n",
        "distancias =crear_distancias()\n",
        "\n",
        "poblacion, distancia_minima, ruta_minima =ajuste (poblacion, distancias, distancia_minima,mejor_ruta) #fitness\n",
        "\n",
        "print('Distancia mínima:' ,distancia_minima)\n",
        "print('-'* 90)\n",
        "distancia_minima +=100 #para que las siguientes generaciones encuentren una distancia mínima\n",
        "for i in range(g): #se evaluarán los datos para las siguientes g generaciones\n",
        "  poblacion = seleccion()\n",
        "  if len(poblacion)<p-1 :\n",
        "    poblacion = recombinacion(poblacion)\n",
        "  poblacion, distancia_minima, ruta_minima =ajuste (poblacion, distancias, distancia_minima,ruta_minima) #fitness\n",
        "  #eliminar las posibles filas a 0, comprobando que la distancia sea 0\n",
        "  inds = np.where(poblacion[:, 6] == 0)[0]\n",
        "  # Eliminar las filas de la matriz\n",
        "  poblacion = np.delete(poblacion, inds, axis=0)\n",
        "  print('Generacion: ',i+1) # la población inicial es la \"Generación 0\", como el array empieza en la posición 0, sumo 1\n",
        "  print('Mejor ruta:')\n",
        "  print(representar(ruta_minima))\n",
        "  print('Distancia :' ,distancia_minima)\n",
        "  print('-'* 90)\n",
        "representar_coordenadas(ruta_minima)"
      ],
      "metadata": {
        "id": "9U2ZJ7R1r_9d",
        "colab": {
          "base_uri": "https://localhost:8080/",
          "height": 1122
        },
        "outputId": "aed7ccd6-ffc9-427e-b251-fa7483d8d519"
      },
      "execution_count": 245,
      "outputs": [
        {
          "output_type": "stream",
          "name": "stdout",
          "text": [
            "Población inicial\n",
            "[[0 3 1 2 4 5]\n",
            " [0 4 5 2 1 3]\n",
            " [2 4 0 3 1 5]\n",
            " [1 2 3 5 0 4]\n",
            " [4 5 0 3 2 1]\n",
            " [3 0 1 2 5 4]\n",
            " [4 1 3 5 2 0]\n",
            " [5 3 0 4 1 2]\n",
            " [1 5 0 3 2 4]\n",
            " [4 5 2 3 0 1]]\n",
            "Distancia mínima: 209\n",
            "------------------------------------------------------------------------------------------\n",
            "Generacion:  1\n",
            "Mejor ruta:\n",
            "Arucas -> Agaete -> LPGC -> Teror -> Telde -> San Bartolomé de Tirajana -> Arucas\n",
            "Distancia : 209\n",
            "------------------------------------------------------------------------------------------\n",
            "Generacion:  2\n",
            "Mejor ruta:\n",
            "Arucas -> Agaete -> LPGC -> Teror -> Telde -> San Bartolomé de Tirajana -> Arucas\n",
            "Distancia : 209\n",
            "------------------------------------------------------------------------------------------\n",
            "Generacion:  3\n",
            "Mejor ruta:\n",
            "Arucas -> Agaete -> LPGC -> Teror -> Telde -> San Bartolomé de Tirajana -> Arucas\n",
            "Distancia : 209\n",
            "------------------------------------------------------------------------------------------\n",
            "Generacion:  4\n",
            "Mejor ruta:\n",
            "Arucas -> Agaete -> Telde -> San Bartolomé de Tirajana -> Teror -> LPGC -> Arucas\n",
            "Distancia : 201\n",
            "------------------------------------------------------------------------------------------\n",
            "Generacion:  5\n",
            "Mejor ruta:\n",
            "Arucas -> Agaete -> Telde -> San Bartolomé de Tirajana -> Teror -> LPGC -> Arucas\n",
            "Distancia : 201\n",
            "------------------------------------------------------------------------------------------\n"
          ]
        },
        {
          "output_type": "display_data",
          "data": {
            "text/plain": [
              "<Figure size 640x480 with 1 Axes>"
            ],
            "image/png": "[encoded data removed]"
          },
          "metadata": {}
        }
      ]
    }
  ]
}