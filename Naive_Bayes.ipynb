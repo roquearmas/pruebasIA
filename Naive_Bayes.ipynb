{
  "nbformat": 4,
  "nbformat_minor": 0,
  "metadata": {
    "colab": {
      "provenance": [],
      "authorship_tag": "ABX9TyPMMhNE6KuMFncOgmKyF8D+",
      "include_colab_link": true
    },
    "kernelspec": {
      "name": "python3",
      "display_name": "Python 3"
    },
    "language_info": {
      "name": "python"
    }
  },
  "cells": [
    {
      "cell_type": "markdown",
      "metadata": {
        "id": "view-in-github",
        "colab_type": "text"
      },
      "source": [
        "<a href=\"https://colab.research.google.com/github/roquearmas/pruebasIA/blob/main/Naive_Bayes.ipynb\" target=\"_parent\"><img src=\"https://colab.research.google.com/assets/colab-badge.svg\" alt=\"Open In Colab\"/></a>"
      ]
    },
    {
      "cell_type": "markdown",
      "source": [
        "***CLASIFICADOR NAIVE BAYES***"
      ],
      "metadata": {
        "id": "9LDRLR2ZluLD"
      }
    },
    {
      "cell_type": "code",
      "execution_count": null,
      "metadata": {
        "id": "A6vA_r5Zlmrm"
      },
      "outputs": [],
      "source": [
        "# Se importan las librerías necesarias\n",
        "import numpy as np\n",
        "import pandas as pd\n",
        "from sklearn.naive_bayes import GaussianNB\n",
        "from sklearn.metrics import confusion_matrix, accuracy_score, precision_score, recall_score, f1_score\n",
        "from sklearn.metrics import roc_curve, auc, precision_recall_curve\n",
        "import matplotlib.pyplot as plt"
      ]
    },
    {
      "cell_type": "markdown",
      "source": [
        "Se carga el dataset"
      ],
      "metadata": {
        "id": "N4l5-puMltZb"
      }
    },
    {
      "cell_type": "code",
      "source": [
        "data = pd.read_csv(\"house-votes-84.data\", header=None, names=[\"NAME\", \"V1\", \"V2\", \"V3\", \"V4\", \"V5\", \"V6\", \"V7\", \"V8\", \"V9\", \"V10\", \"V11\", \"V12\", \"V13\", \"V14\", \"V15\", \"V16\"])\n",
        "\n",
        "# Eliminamos los datos vacíos\n",
        "data = data.replace(\"?\", \"\")\n",
        "\n",
        "# Convertimos la columna NAME a factor\n",
        "data[\"NAME\"] = data[\"NAME\"].astype(\"category\")\n",
        "\n",
        "# Dividimos el dataset en entrenamiento y test\n",
        "train_data = data.iloc[:370]\n",
        "test_data = data.iloc[371:435]"
      ],
      "metadata": {
        "id": "tbH-nt_pl126"
      },
      "execution_count": null,
      "outputs": []
    },
    {
      "cell_type": "markdown",
      "source": [],
      "metadata": {
        "id": "mezA1YgvmE07"
      }
    },
    {
      "cell_type": "code",
      "source": [
        "# Entrenamos el clasificador\n",
        "model = GaussianNB()\n",
        "\n",
        "x_train=train_data.iloc[:,1:].replace(\"y\", 1).replace(\"n\", 0).replace(\"\", 0)\n",
        "y_train=train_data.iloc[:,0].replace(\"democrat\",0).replace(\"republican\",1)\n",
        "x_test= test_data.iloc[:,1:].replace(\"y\", 1).replace(\"n\", 0).replace(\"\", 0)\n",
        "y_test= test_data.iloc[:,0].replace(\"democrat\",0).replace(\"republican\",1)\n",
        "\n",
        "#model.fit(train_data.drop(\"NAME\", axis=1), train_data[\"NAME\"])\n",
        "model.fit (x_train, y_train)\n",
        "\n",
        "# Predecimos las clases\n",
        "predictions = model.predict(x_test)\n",
        "\n",
        "# Matriz de confusión\n",
        "confusion_matrix(y_test, predictions)\n",
        "\n",
        "# Accuracy\n",
        "accuracy_score(y_test, predictions)\n",
        "\n",
        "# Precision\n",
        "precision_score(y_test, predictions)\n",
        "\n",
        "# Recall\n",
        "recall_score(y_test, predictions)\n",
        "\n",
        "# F1\n",
        "f1_score(y_test, predictions)"
      ],
      "metadata": {
        "colab": {
          "base_uri": "https://localhost:8080/"
        },
        "id": "kIMzQdKumFaL",
        "outputId": "a79f7223-8136-41a5-dfeb-f74871e3bd70"
      },
      "execution_count": null,
      "outputs": [
        {
          "output_type": "execute_result",
          "data": {
            "text/plain": [
              "0.8679245283018867"
            ]
          },
          "metadata": {},
          "execution_count": 30
        }
      ]
    },
    {
      "cell_type": "markdown",
      "source": [
        "Curva ROC"
      ],
      "metadata": {
        "id": "uURM0Mhqmxzr"
      }
    },
    {
      "cell_type": "code",
      "source": [
        "fpr, tpr, _ = roc_curve(y_test, predictions)\n",
        "area = auc(fpr, tpr)\n",
        "plt.plot(fpr, tpr, label=\"AUC = {0:.2f}\".format(area))\n",
        "plt.xlabel(\"FPR\")\n",
        "plt.ylabel(\"TPR\")\n",
        "plt.legend()\n",
        "plt.show()"
      ],
      "metadata": {
        "colab": {
          "base_uri": "https://localhost:8080/",
          "height": 449
        },
        "id": "y-E4wfsymxo0",
        "outputId": "3abae3b6-e59e-4c9d-f73d-bbee03185696"
      },
      "execution_count": null,
      "outputs": [
        {
          "output_type": "display_data",
          "data": {
            "text/plain": [
              "<Figure size 640x480 with 1 Axes>"
            ],
            "image/png": "[encoded data removed]"
          },
          "metadata": {}
        }
      ]
    }
  ]
}