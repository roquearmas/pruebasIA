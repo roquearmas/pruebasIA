{
  "nbformat": 4,
  "nbformat_minor": 0,
  "metadata": {
    "colab": {
      "provenance": [],
      "authorship_tag": "ABX9TyNWVUxLnScdFbJdKHzpeQQl",
      "include_colab_link": true
    },
    "kernelspec": {
      "name": "python3",
      "display_name": "Python 3"
    },
    "language_info": {
      "name": "python"
    }
  },
  "cells": [
    {
      "cell_type": "markdown",
      "metadata": {
        "id": "view-in-github",
        "colab_type": "text"
      },
      "source": [
        "<a href=\"https://colab.research.google.com/github/roquearmas/pruebasIA/blob/main/Bloques_con_STRIPS.ipynb\" target=\"_parent\"><img src=\"https://colab.research.google.com/assets/colab-badge.svg\" alt=\"Open In Colab\"/></a>"
      ]
    },
    {
      "cell_type": "markdown",
      "source": [
        "Planificación de STRIPS\n",
        "\n",
        "Jesús Roque Armas Martín\n",
        "\n",
        "Se plantea un escenario en el que hay cuatro bloques colocados unos sobre otros en estructura BACD siendo B el de más arriba y D el de abajo. Los bloques tienen tres posiciones horizontales (columnas) donde colocarse. Se pretende que un brazo robótico, mediante planificación STRIPS, sea capaz de colocarlos, en orden ABCD, siendo A el bloque que quede en la posición superior y D en la inferior.\n",
        "\n",
        "Voy a definir un vector de situación que refleje dónde está el robot y dónde cada uno de los bloques, así como qué bloque está colocado encima de cada uno de ellos. {pR,pA,bA,pB,bB,pC,bC,pD,bD} siendo :\n",
        "pr -> posición del brazo Robótico\n",
        "pL -> representación de la posición del bloque L cada bloque.\n",
        "bL -> representación de qué bloque tiene encima el bloque L.\n",
        "\n",
        "Se asignan 3 dígitos binarios a cada una de estas 9 variables, que se deben controlar. En las posiciones donde se especifíca que bloque tiene encima cada uno de ellos, se sustituye la posición del bloque que está encima por un 1.\n",
        "Si un determinado bloque no tiene bloques encima, esos tres dígitos serán cero. Por ejemplo, en el estado inicial, el bloque B no tiene bloques encima, los tres dígitos relativos a bC, son ceros.\n",
        "\n",
        " De esta manera, la representación del estado inicial, en base decimal y letras\n",
        " sería {2,1,B,1,0,1,A,1,C} --> si lo paso a binario:\n",
        "\n",
        " Leyenda   pR | pA | bA | pB | bB | pC | bC | pD | bD\n",
        "\n",
        "          123  123  BCD  123  ACD  123  ABD  123  ABC\n",
        "\n",
        "          010  100  100  100  000  100  100  100  001\n",
        "\n",
        " y la del final {3,3,0,3,A,3,B,3,C}:\n",
        "\n",
        " Leyenda   pR | pA | bA | pB | bB | pC | bC | pD | bD\n",
        "\n",
        "          123  123  BCD  123  ACD  123  ABD  123  ABC\n",
        "\n",
        "          001  001  000  001  100  001  010  001  001\n",
        "\n",
        "Las posibles acciones serán MoverBrazo, que representa el movimientosdel brazo robótico, sin carga y MoverBloque, que representa el movimiento del brazo roboótico, cargado con un bloque.         \n",
        "\n"
      ],
      "metadata": {
        "id": "Pecd6fPMiO2q"
      }
    },
    {
      "cell_type": "code",
      "execution_count": 19,
      "metadata": {
        "id": "R0UsXNzIgqHk"
      },
      "outputs": [],
      "source": [
        "import numpy as np\n",
        "max_profundidad=25 # Operaciones máximas a recordar en la pila\n",
        "max_operaciones=20 # número de operaciones distintas\n",
        "estado=np.zeros((max_operaciones,27))     # Pila de estados\n",
        "operaciones=np.zeros(max_profundidad,dtype=int)  # Pila de operaciones\n",
        "texto=['MoverBrazo (2,1)  ','MoverBloque(B,1,2)','MoverBrazo (2,1)  ','MoverBloque(A,1,2)','MoverBrazo (2,1)  ','MoverBloque(C,1,2)',\n",
        "       'MoverBrazo (2,1)  ','MoverBloque(D,1,2)','MoverBloque(D,2,3)','MoverBrazo (3,2)  ','MoverBloque(C,2,3)','MoverBrazo (3,2)  ',\n",
        "       'MoverBloque(A,2,1)','MoverBrazo (1,2)  ','MoverBloque(B,2,3)','MoverBrazo (3,2)  ','MoverBrazo (2,1)  ','MoverBloque(A,1,2)','MoverBloque(A,2,3)']\n",
        "\n",
        "PC=np.zeros((max_operaciones,27),dtype=int)\n",
        "E=np.zeros((max_operaciones,27),dtype=int)\n",
        "A=np.zeros((max_operaciones,27),dtype=int)\n",
        "\n",
        "inicio=np.arange(27)\n",
        "fin=np.arange(27)\n",
        "#         Robot|  A  |B C D|  B  |A C D|  C  |A B D|  D  |A B C\n",
        "#         1 2 3|1 2 3|     |1 2 3|     |1 2 3|     |1 2 3|\n",
        "inicio = [0,1,0,1,0,0,1,0,0,1,0,0,0,0,0,1,0,0,1,0,0,1,0,0,0,0,1] # Robot está en 2, en la posición 1, todas las cajas , de arriba  a abajo BACD\n",
        "fin    = [0,0,1,0,0,1,0,0,0,0,0,1,1,0,0,0,0,1,0,1,0,0,0,1,0,0,1] # Robot está en 3, en la posición 1, y 2 no hay nada y en la posición 3, ABCD\n"
      ]
    },
    {
      "cell_type": "markdown",
      "source": [
        "\n",
        "Defino las operaciones posibles, según las operaciones a realizar\n",
        "\n",
        "\n"
      ],
      "metadata": {
        "id": "_Qas3euejmQp"
      }
    },
    {
      "cell_type": "code",
      "source": [
        "PC[0]=np.array(inicio).astype(int)\n",
        "\n",
        "#MoverBrazo[2,1]\n",
        "E[0]= [1,0,1,1,1,1,1,1,1,1,1,1,1,1,1,1,1,1,1,1,1,1,1,1,1,1,1]\n",
        "A[0]= [1,0,0,0,0,0,0,0,0,0,0,0,0,0,0,0,0,0,0,0,0,0,0,0,0,0,0]\n",
        "\n",
        "PC[1]=[1,0,0,1,0,0,1,0,0,1,0,0,0,0,0,1,0,0,1,0,0,1,0,0,0,0,1]\n",
        "#MoverBloque (B,1,2)\n",
        "E[1]= [0,1,1,1,1,1,0,1,1,0,1,1,1,1,1,1,1,1,1,1,1,1,1,1,1,1,1]\n",
        "A[1]= [0,1,0,0,0,0,0,0,0,0,1,0,0,0,0,0,0,0,0,0,0,0,0,0,0,0,0]\n",
        "#          BR |  A  |  B  |  C  |  D\n",
        "#leyenda   1,231,23BCD1,23ACD1,23ABD1,23ABC\n",
        "PC[2]=[0,1,0,1,0,0,0,0,0,0,1,0,0,0,0,1,0,0,1,0,0,1,0,0,0,0,1]\n",
        "\n",
        "#MoverBrazo (2,1)\n",
        "E[2]= [1,0,1,1,1,1,1,1,1,1,1,1,1,1,1,1,1,1,1,1,1,1,1,1,1,1,1]\n",
        "A[2]= [1,0,0,0,0,0,0,0,0,0,0,0,0,0,0,0,0,0,0,0,0,0,0,0,0,0,0]\n",
        "\n",
        "PC[3]=[1,0,0,1,0,0,0,0,0,0,1,0,0,0,0,1,0,0,1,0,0,1,0,0,0,0,1]\n",
        "#MoverBloque (A,1,2)\n",
        "E[3]= [0,1,1,0,1,1,1,1,1,1,1,1,1,1,1,1,1,1,0,1,1,1,1,1,1,1,1]\n",
        "A[3]= [0,1,0,0,1,0,0,0,0,0,0,0,1,0,0,0,0,0,0,0,0,0,0,0,0,0,0]\n",
        "\n",
        "PC[4]=[0,1,0,0,1,0,0,0,0,0,1,0,1,0,0,1,0,0,0,0,0,1,0,0,0,0,1]\n",
        "#MoverBrazo (2,1)\n",
        "E[4]= [1,0,1,1,1,1,1,1,1,1,1,1,1,1,1,1,1,1,1,1,1,1,1,1,1,1,1]\n",
        "A[4]= [1,0,0,0,0,0,0,0,0,0,0,0,0,0,0,0,0,0,0,0,0,0,0,0,0,0,0]\n",
        "\n",
        "PC[5]=[1,0,0,0,1,0,0,0,0,0,1,0,1,0,0,1,0,0,0,0,0,1,0,0,0,0,1]\n",
        "#moverBloque(C,1,2)\n",
        "E[5]= [1,0,1,1,1,1,1,1,1,1,1,1,1,1,1,0,1,1,1,1,1,1,1,1,1,1,0]\n",
        "A[5]= [0,1,0,0,0,0,0,1,0,0,0,0,0,0,0,0,1,0,0,0,0,0,0,0,0,0,0]\n",
        "\n",
        "PC[6]=[0,1,0,0,1,0,0,1,0,0,1,0,1,0,0,0,1,0,0,0,0,1,0,0,0,0,0]\n",
        "#moverBRAZO(2,1,)\n",
        "E[6]= [1,0,1,1,1,1,1,1,1,1,1,1,1,1,1,1,1,1,1,1,1,1,1,1,1,1,1]\n",
        "A[6]= [1,0,0,0,0,0,0,0,0,0,0,0,0,0,0,0,0,0,0,0,0,0,0,0,0,0,0]\n",
        "\n",
        "PC[7]=[1,0,0,0,1,0,0,0,0,0,1,0,1,0,0,0,1,0,0,0,0,1,0,0,0,0,0]\n",
        "\n",
        "E[7] =[0,1,1,1,1,1,1,1,1,1,1,1,1,1,1,1,1,1,1,1,1,0,1,1,1,1,1]\n",
        "A[7] =[0,1,0,0,0,0,0,0,0,0,0,0,0,0,0,0,0,0,0,0,1,0,1,0,0,0,0]\n",
        "\n",
        "PC[8]=[0,1,0,0,1,0,0,0,0,0,1,0,1,0,0,0,1,0,0,0,1,0,1,0,0,0,0]\n",
        "#moverBloque(D,2,3)\n",
        "E[8]= [1,0,1,1,1,1,1,1,1,1,1,1,1,1,1,1,1,1,1,1,0,1,0,1,1,1,1]\n",
        "A[8]= [0,0,1,0,0,0,0,0,0,0,0,0,0,0,0,0,0,0,0,0,0,0,0,1,0,0,0]\n",
        "\n",
        "PC[9]=[0,0,1,0,1,0,0,1,0,0,1,0,1,0,0,0,1,0,0,0,0,0,0,1,0,0,0]\n",
        "#moverBrazo(3,2)\n",
        "E[9]= [1,1,0,1,1,1,1,1,1,1,1,1,1,1,1,1,1,1,1,1,1,1,1,1,1,1,1]\n",
        "A[9]= [0,1,0,0,0,0,0,0,0,0,0,0,0,0,0,0,0,0,0,0,0,0,0,0,0,0,0]\n",
        "\n",
        "PC[10]=[0,1,0,0,1,0,0,1,0,0,1,0,1,0,0,0,1,0,0,0,0,0,0,1,0,0,0]\n",
        "#moverBloque(C,2,3)\n",
        "E[10]= [1,0,1,1,1,1,1,0,1,1,1,1,1,1,1,1,0,1,1,1,1,1,1,1,1,1,1]\n",
        "A[10]= [0,1,1,0,0,0,0,0,0,0,0,0,0,0,0,0,0,1,0,0,0,0,0,0,0,0,1]\n",
        "\n",
        "PC[11]=[0,0,1,0,1,0,0,0,0,0,1,0,1,0,0,0,0,1,0,0,0,0,0,1,0,0,1]\n",
        "#moverBrazo(3,2)\n",
        "E[11]= [1,1,0,1,1,1,1,1,1,1,1,1,1,1,1,1,1,1,1,1,1,1,1,1,1,1,1]\n",
        "A[11]= [0,1,0,0,0,0,0,0,0,0,0,0,0,0,0,0,0,0,0,0,0,0,0,0,0,0,0]\n",
        "\n",
        "PC[12]=[0,1,0,0,1,0,0,0,0,0,1,0,1,0,0,0,0,1,0,0,0,0,0,1,0,0,1]\n",
        "#moverBloque(A,2,1,)\n",
        "E[12]= [1,0,1,1,0,1,1,1,1,1,1,1,0,1,1,1,1,1,1,1,1,1,1,1,1,1,1]\n",
        "A[12]= [1,0,0,1,0,0,0,0,0,0,0,0,0,0,0,0,0,0,0,0,0,0,0,0,0,0,0]\n",
        "\n",
        "PC[13]=[1,0,0,1,0,0,0,0,0,0,1,0,0,0,0,0,0,1,0,0,0,0,0,1,0,0,1]\n",
        "#MoverBrazo (1,,2)\n",
        "E[13]= [0,1,1,1,1,1,1,1,1,1,1,1,1,1,1,1,1,1,1,1,1,1,1,1,1,1,1]\n",
        "A[13]= [0,1,0,0,0,0,0,0,0,0,0,0,0,0,0,0,0,0,0,0,0,0,0,0,0,0,0]\n",
        "\n",
        "PC[14]=[0,1,0,1,0,0,0,0,0,0,1,0,0,0,0,0,0,1,0,0,0,0,0,1,0,0,1]\n",
        "#MoverBloque(B,2,3)\n",
        "E[14]= [1,0,1,1,1,1,1,1,1,1,0,1,1,1,1,1,1,1,1,1,1,1,1,1,1,1,1]\n",
        "A[14]= [0,0,1,0,0,0,0,0,0,0,0,1,0,0,0,0,0,0,0,1,0,0,0,0,0,0,0]\n",
        "\n",
        "PC[15]=[0,0,1,1,0,0,0,0,0,0,0,1,0,0,0,0,0,1,0,1,0,0,0,1,0,0,1]\n",
        "#moverBrazo(3,2)\n",
        "E[15]= [1,1,0,1,1,1,1,1,1,1,1,1,1,1,1,1,1,1,1,1,1,1,1,1,1,1,1]\n",
        "A[15]= [0,1,0,0,0,0,0,0,0,0,0,0,0,0,0,0,0,0,0,0,0,0,0,0,0,0,0]\n",
        "\n",
        "PC[16]=[0,1,0,1,0,0,0,0,0,0,0,1,0,0,0,0,0,1,0,1,0,0,0,1,0,0,1]\n",
        "#MoverBrazo (2,1)\n",
        "E[16]= [1,0,1,1,1,1,1,1,1,1,1,1,1,1,1,1,1,1,1,1,1,1,1,1,1,1,1]\n",
        "A[16]= [1,0,0,0,0,0,0,0,0,0,0,0,0,0,0,0,0,0,0,0,0,0,0,0,0,0,0]\n",
        "\n",
        "PC[17]=[1,0,0,1,0,0,0,0,0,0,0,1,0,0,0,0,0,1,0,1,0,0,0,1,0,0,1]\n",
        "#moverBloque(A,1,2)\n",
        "E[17]= [0,1,1,0,1,1,1,1,1,1,1,1,1,1,1,1,1,1,1,1,1,1,1,1,1,1,1]\n",
        "A[17]= [0,1,0,0,1,0,0,0,0,0,0,0,0,0,0,0,0,0,0,0,0,0,0,0,0,0,0]\n",
        "\n",
        "PC[18]=[0,1,0,0,1,0,0,0,0,0,0,1,0,0,0,0,0,1,0,1,0,0,0,1,0,0,1]\n",
        "#moverBloque(A,2,3)\n",
        "E[18]= [1,0,1,1,0,1,1,1,1,1,1,1,1,1,1,1,1,1,1,1,1,1,1,1,1,1,1]\n",
        "A[18]= [0,0,1,0,0,1,0,0,0,0,0,1,1,0,0,0,0,0,0,0,0,0,0,0,0,0,0]\n",
        "\n",
        "PC[19]=[0,0,1,0,0,1,0,0,0,0,0,1,1,0,0,0,0,1,0,1,0,0,0,1,0,0,1]"
      ],
      "metadata": {
        "id": "ZFUq-49_jmE5"
      },
      "execution_count": 21,
      "outputs": []
    },
    {
      "cell_type": "markdown",
      "source": [
        "Metodo para intentar una acción"
      ],
      "metadata": {
        "id": "PIQP4XTaFv2h"
      }
    },
    {
      "cell_type": "code",
      "source": [
        "def intentar(nodo,op):\n",
        "   #pasar nodo a array\n",
        "    npNodo=np.array(nodo).astype(int)\n",
        "\n",
        "    if np.array_equal(npNodo & np.array(PC[op]),np.array(PC[op])): # Cumple las PC para aplicar la op\n",
        "        sigu=npNodo & E[op] # Eliminamos propiedades E\n",
        "        sigu=sigu | A[op]  # Añade propiedades A\n",
        "    else:\n",
        "        sigu=np.zeros(27)\n",
        "    return sigu"
      ],
      "metadata": {
        "id": "Grq09Z95FvvR"
      },
      "execution_count": 12,
      "outputs": []
    },
    {
      "cell_type": "markdown",
      "source": [
        "Metodo para comprobar que no hemos pasado por ese estado\n"
      ],
      "metadata": {
        "id": "2Sd5Gp2CGcCp"
      }
    },
    {
      "cell_type": "code",
      "source": [
        "def encontrado(siguiente):\n",
        "  encontrado=False\n",
        "  t=top\n",
        "  while (t>=0):\n",
        "      if np.array_equal(estado[t],siguiente):\n",
        "      #if (estado[t]==siguiente):\n",
        "          encontrado=True\n",
        "      t-=1\n",
        "  return encontrado"
      ],
      "metadata": {
        "id": "-5Wmu1IZGb4x"
      },
      "execution_count": 10,
      "outputs": []
    },
    {
      "cell_type": "markdown",
      "source": [
        "Programa principal"
      ],
      "metadata": {
        "id": "U7CTJ9LQG36h"
      }
    },
    {
      "cell_type": "code",
      "source": [
        "top=0 # Cima de la pila\n",
        "\n",
        "estado[top]=inicio\n",
        "operaciones[top]=0 # Las operaciones van desde 0 hasta max_operaciones-1\n",
        "op=0\n",
        "actual=np.array(inicio).astype(int)\n",
        "\n",
        "while (top>=0): # Mientras queden estados por explorar\n",
        "    while ((op<max_operaciones) and (top<max_profundidad-1) and not np.array_equal(np.array(actual).astype(int),np.array(fin).astype(int))):\n",
        "        siguiente=intentar(np.array(actual).astype(int),op) # Intenta realizar la acción op sobre el estado actual\n",
        "        if not np.array_equal(siguiente,np.zeros(27)): # acción no permitida\n",
        "            if (not(encontrado(siguiente))):# Si no hemos pasado por ese estado\n",
        "                top+=1 # Almacenamos en la pila el estado y la acción\n",
        "                estado[top]=np.array(actual).astype(int)\n",
        "                operaciones[top]=op\n",
        "                #print('/',top,texto[operaciones[top]],'-->',bin(estado[top]),end='')\n",
        "                # Saltamos al siguiente estado\n",
        "                actual=np.array(siguiente).astype(int)\n",
        "                op=-1 # Para que empiece en 0\n",
        "        op+=1\n",
        "\n",
        "    if np.array_equal(np.array(actual).astype(int) & np.array(fin).astype(int),np.array(fin).astype(int)):\n",
        "        print(\"SOLUCIÓN:\")\n",
        "        t=1\n",
        "        while (t<top):\n",
        "            if t%2==0:\n",
        "                print(texto[operaciones[t]],\"--> \")\n",
        "            else:\n",
        "                print(texto[operaciones[t]],\"--> \",end='')\n",
        "            t+=1\n",
        "        print(texto[operaciones[t]])\n",
        "        top=0\n",
        "    actual=estado[top]\n",
        "    op=operaciones[top]+1\n",
        "    top-=1"
      ],
      "metadata": {
        "colab": {
          "base_uri": "https://localhost:8080/"
        },
        "id": "vq60mKasG3uR",
        "outputId": "18e5366d-5b39-4e64-dadf-09b5dbe96abf"
      },
      "execution_count": 24,
      "outputs": [
        {
          "output_type": "stream",
          "name": "stdout",
          "text": [
            "SOLUCIÓN:\n",
            "MoverBrazo (2,1)   --> MoverBloque(B,1,2) --> \n",
            "MoverBrazo (2,1)   --> MoverBloque(A,1,2) --> \n",
            "MoverBrazo (2,1)   --> MoverBloque(C,1,2) --> \n",
            "MoverBrazo (2,1)   --> MoverBloque(D,1,2) --> \n",
            "MoverBloque(D,2,3) --> MoverBrazo (3,2)   --> \n",
            "MoverBloque(C,2,3) --> MoverBrazo (3,2)   --> \n",
            "MoverBloque(A,2,1) --> MoverBrazo (1,2)   --> \n",
            "MoverBloque(B,2,3) --> MoverBrazo (3,2)   --> \n",
            "MoverBrazo (2,1)   --> MoverBloque(A,1,2) --> \n",
            "MoverBloque(A,2,3)\n"
          ]
        }
      ]
    }
  ]
}