{
  "nbformat": 4,
  "nbformat_minor": 0,
  "metadata": {
    "colab": {
      "provenance": [],
      "authorship_tag": "ABX9TyM9BPw96bwRAefzijsjwdGk",
      "include_colab_link": true
    },
    "kernelspec": {
      "name": "python3",
      "display_name": "Python 3"
    },
    "language_info": {
      "name": "python"
    }
  },
  "cells": [
    {
      "cell_type": "markdown",
      "metadata": {
        "id": "view-in-github",
        "colab_type": "text"
      },
      "source": [
        "<a href=\"https://colab.research.google.com/github/roquearmas/pruebasIA/blob/main/TresnRaya_Qlearning.ipynb\" target=\"_parent\"><img src=\"https://colab.research.google.com/assets/colab-badge.svg\" alt=\"Open In Colab\"/></a>"
      ]
    },
    {
      "cell_type": "markdown",
      "source": [
        "Hay que entrenar un segundo jugador, para poder evaluar que, al final, deben empatar siempre."
      ],
      "metadata": {
        "id": "Rtxjw5Mj0Xga"
      }
    },
    {
      "cell_type": "code",
      "source": [
        "def estado_valido (numero):\n",
        "\n",
        "# hay que sacar solamente los numeros 0, 1 o 2\n",
        "# solamente valen los que tengan igual número de dos que de unos\n",
        "# o que tengan un 1 más que un dos, pero no más\n",
        "\n",
        "  unos=contar_repeticiones(numero,1)\n",
        "  doses=contar_repeticiones(numero,2)\n",
        "\n",
        "  if doses==unos or doses + 1==unos:\n",
        "    return True\n",
        "  else:\n",
        "    return False\n",
        "\n"
      ],
      "metadata": {
        "id": "Y6grEfxvx4jS"
      },
      "execution_count": null,
      "outputs": []
    },
    {
      "cell_type": "code",
      "source": [
        "def contar_repeticiones(numero, digito):\n",
        "  contador = 0\n",
        "  for caracter in str(numero):\n",
        "    if caracter == str(digito):\n",
        "      contador += 1\n",
        "  return contador"
      ],
      "metadata": {
        "id": "mREJfqJP7rnI"
      },
      "execution_count": null,
      "outputs": []
    },
    {
      "cell_type": "code",
      "execution_count": null,
      "metadata": {
        "id": "-hqGiqQAv1br"
      },
      "outputs": [],
      "source": [
        "Q=[]\n",
        "R=[]\n",
        "dicc=dict()\n",
        "dicc_inver=dict()\n",
        "indice=0\n",
        "for a in range(3):\n",
        "  for b in range(3):\n",
        "    for c in range(3):\n",
        "      for d in range(3):\n",
        "        for e in range(3):\n",
        "          for f in range(3):\n",
        "            for g in range(3):\n",
        "              for h in range(3):\n",
        "                for i in range(3):\n",
        "                  ganador_1 = False\n",
        "                  ganador_2 = False\n",
        "                  estado =int(str(a)+str(b)+str(c)+str(d)+str(e)+str(f)+str(g)+str(h)+str(i))\n",
        "\n",
        "                  if estado_valido(estado):\n",
        "\n",
        "                    ganador_1 = ((a*b*c==1) or (d*e*f==1) or (g*h*i==1) or (a*e*i==1) or (c*e*g==1) or (a*d*g==1) or (b*e*h==1) or (c*f*i==1))\n",
        "                    ganador_2 = ((a*b*c==8) or (d*e*f==8) or (g*h*i==8) or (a*e*i==8) or (c*e*g==8) or (a*d*g==8) or (b*e*h==8) or (c*f*i==8))\n",
        "\n",
        "                    if not(ganador_1 & ganador_2):\n",
        "                      indice_cod = a*(3**8) + b*(3**7) + c*(3**6) + d*(3**5) + e*(3**4) + f*(3**3) + g*(3**2) + h*3 + i\n",
        "                      dicc[indice_cod] = indice\n",
        "                      dicc_inver[indice] = indice_cod\n",
        "                      Q.append(indice_cod)\n",
        "                      indice +=1\n",
        "                    # detectar las jugadas ganadoras para 1 y darles recompensa 100\n",
        "                    if ganador_1:\n",
        "                      R.append (100)\n",
        "                    elif ganador_2:\n",
        "                      R.append (-100)\n",
        "                    # detectar los empates y darles recompensa de 10\n",
        "                    elif a*b*c*d*e*f*g*h*i !=0: # empate\n",
        "                      R.append (10)\n",
        "                    else:\n",
        "                      R.append (0)\n",
        "\n"
      ]
    },
    {
      "cell_type": "code",
      "source": [
        "\n",
        "print(dicc[])"
      ],
      "metadata": {
        "colab": {
          "base_uri": "https://localhost:8080/",
          "height": 175
        },
        "id": "N_A-ej55TDHd",
        "outputId": "8dceb09a-6e5e-4a23-8f94-836bb44e6350"
      },
      "execution_count": 42,
      "outputs": [
        {
          "output_type": "error",
          "ename": "KeyError",
          "evalue": "648",
          "traceback": [
            "\u001b[0;31m---------------------------------------------------------------------------\u001b[0m",
            "\u001b[0;31mKeyError\u001b[0m                                  Traceback (most recent call last)",
            "\u001b[0;32m<ipython-input-42-45012f62c6bd>\u001b[0m in \u001b[0;36m<cell line: 1>\u001b[0;34m()\u001b[0m\n\u001b[0;32m----> 1\u001b[0;31m \u001b[0mprint\u001b[0m\u001b[0;34m(\u001b[0m\u001b[0mdicc\u001b[0m\u001b[0;34m[\u001b[0m\u001b[0;36m648\u001b[0m\u001b[0;34m]\u001b[0m\u001b[0;34m)\u001b[0m\u001b[0;34m\u001b[0m\u001b[0;34m\u001b[0m\u001b[0m\n\u001b[0m",
            "\u001b[0;31mKeyError\u001b[0m: 648"
          ]
        }
      ]
    },
    {
      "cell_type": "markdown",
      "source": [
        "Método para pasar estado decimal a base 3\n"
      ],
      "metadata": {
        "id": "uZXFE7EmEPWv"
      }
    },
    {
      "cell_type": "code",
      "source": [
        "def decodificar_estado(numero):\n",
        "  if numero==0:\n",
        "    return \"0\"\n",
        "  digitos = []\n",
        "  while numero > 0:\n",
        "      digitos.append(str(numero % 3))\n",
        "      numero //= 3\n",
        "  return int(\"\".join(digitos[::-1]))\n",
        "\n"
      ],
      "metadata": {
        "id": "pSXYV1xSEPNP"
      },
      "execution_count": null,
      "outputs": []
    },
    {
      "cell_type": "markdown",
      "source": [
        "Creo la matriz de transiciones"
      ],
      "metadata": {
        "id": "6tNP-UHJ-Zno"
      }
    },
    {
      "cell_type": "code",
      "source": [
        "import numpy as np\n",
        "\n",
        "T= np.zeros ((len(Q),9),dtype=int)\n",
        "for i in range (len(Q)): #estados posibles\n",
        "    # decodificar el estado\n",
        "    estadoQ=Q[i]\n",
        "    estado_decod=decodificar_estado(estadoQ)\n",
        "    ceros= contar_repeticiones(estado_decod,0)\n",
        "    if ceros==0:\n",
        "      # no existen ceros en el estado, no se puede jugar. Todas las acciones son -1\n",
        "      for k in range(9)  :\n",
        "        T[i,k]=-1\n",
        "\n",
        "    else: #existen ceros, hay jugada\n",
        "      for j in range (9):\n",
        "        str_estado=str(estado_decod).zfill(9)\n",
        "\n",
        "        if str_estado [j]=='0':\n",
        "          str_estado = str_estado[:j]+'1'+ str_estado[j+1:] # tenemos la jugada hecha para el jugador uno\n",
        "          if estado_valido(int(str_estado)):\n",
        "            if dos_ganadores(str_estado)==False:\n",
        "              indice_cod=0\n",
        "              for k in range(9):\n",
        "                indice_cod +=int( str_estado[k])*(3**(8-k))\n",
        "                # print (str_estado,int( str_estado[k]),k,3**(8-k),indice_cod,int( str_estado[k])*(3**(8-k)) )\n",
        "                # print (indice_cod)\n",
        "              #buscamos el estado en la tabla Q, con el índice del estado resultante.\n",
        "              #print (i,j,indice_cod)\n",
        "              T[i,j]=dicc[indice_cod]\n",
        "            else:\n",
        "              T[i,j]=-1\n",
        "          else:\n",
        "            T[i,j]=-1\n",
        "        else :\n",
        "          T[i,j]=-1\n",
        "\n",
        "\n",
        "\n",
        "\n",
        "\n",
        "    # si se puede jugar ese estado, comprobar si es un estado ganador\n",
        "    # si se gana, escribo -1\n",
        "\n",
        "\n",
        "\n",
        "\n",
        "\n",
        "\n"
      ],
      "metadata": {
        "id": "5Mn9NblKrFhy"
      },
      "execution_count": 55,
      "outputs": []
    },
    {
      "cell_type": "markdown",
      "source": [
        "Método que detecta si en un estado hay dos ganadores"
      ],
      "metadata": {
        "id": "hKjiNATpAQ5U"
      }
    },
    {
      "cell_type": "code",
      "source": [
        "def dos_ganadores(estado):\n",
        "  a=int(estado[0])\n",
        "  b=int(estado[1])\n",
        "  c=int(estado[2])\n",
        "  d=int(estado[3])\n",
        "  e=int(estado[4])\n",
        "  f=int(estado[5])\n",
        "  g=int(estado[6])\n",
        "  h=int(estado[7])\n",
        "  i=int(estado[8])\n",
        "  ganador_1 = ((a*b*c==1) or (d*e*f==1) or (g*h*i==1) or (a*e*i==1) or (c*e*g==1) or (a*d*g==1) or (b*e*h==1) or (c*f*i==1))\n",
        "  ganador_2 = ((a*b*c==8) or (d*e*f==8) or (g*h*i==8) or (a*e*i==8) or (c*e*g==8) or (a*d*g==8) or (b*e*h==8) or (c*f*i==8))\n",
        "  return ganador_1 & ganador_2\n"
      ],
      "metadata": {
        "id": "OBMg3jMnAQud"
      },
      "execution_count": 44,
      "outputs": []
    },
    {
      "cell_type": "code",
      "source": [
        "for j in range(9):\n",
        "    str_estado = '0'.zfill(9)\n",
        "    # print(j,str_estado,str_estado[j])\n",
        "    if str_estado[j] == \"0\":\n",
        "        str_estado = str_estado[:j]+'1'+ str_estado[j+1:]\n",
        "        print (str_estado)\n",
        "        if estado_valido(int(str_estado)):\n",
        "            if dos_ganadores(str_estado) == False:\n",
        "                indice_cod = 0\n",
        "                for k in range(9):\n",
        "                    indice_cod += int(str_estado[k]) * (3 ** (8 - k))\n",
        "\n",
        "                T[i, j] = dicc[indice_cod]\n",
        "            else:\n",
        "                T[i, j] = -1\n",
        "        else:\n",
        "            T[i, j] = -1\n",
        "    else:\n",
        "        T[i, j] = -1\n"
      ],
      "metadata": {
        "colab": {
          "base_uri": "https://localhost:8080/"
        },
        "id": "UHBB-igbz6mW",
        "outputId": "0ad57026-5b89-413e-ab34-7307aebf2a12"
      },
      "execution_count": 54,
      "outputs": [
        {
          "output_type": "stream",
          "name": "stdout",
          "text": [
            "100000000\n",
            "010000000\n",
            "001000000\n",
            "000100000\n",
            "000010000\n",
            "000001000\n",
            "000000100\n",
            "000000010\n",
            "000000001\n"
          ]
        }
      ]
    },
    {
      "cell_type": "code",
      "source": [
        "print(decodificar_estado(Q[0]))\n",
        "print(decodificar_estado(Q[1]))\n",
        "print(decodificar_estado(Q[2]))\n"
      ],
      "metadata": {
        "colab": {
          "base_uri": "https://localhost:8080/"
        },
        "id": "7_pcBeZJTbrD",
        "outputId": "98f6e63f-bac0-452d-ace2-51e61484c0a3"
      },
      "execution_count": 60,
      "outputs": [
        {
          "output_type": "stream",
          "name": "stdout",
          "text": [
            "0\n",
            "1\n",
            "10\n"
          ]
        }
      ]
    }
  ]
}