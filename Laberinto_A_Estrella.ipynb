{
  "nbformat": 4,
  "nbformat_minor": 0,
  "metadata": {
    "colab": {
      "provenance": [],
      "authorship_tag": "ABX9TyMC5Di3c1TOTcdJ/dKFc6JD",
      "include_colab_link": true
    },
    "kernelspec": {
      "name": "python3",
      "display_name": "Python 3"
    },
    "language_info": {
      "name": "python"
    }
  },
  "cells": [
    {
      "cell_type": "markdown",
      "metadata": {
        "id": "view-in-github",
        "colab_type": "text"
      },
      "source": [
        "<a href=\"https://colab.research.google.com/github/roquearmas/pruebasIA/blob/main/Laberinto_A_Estrella.ipynb\" target=\"_parent\"><img src=\"https://colab.research.google.com/assets/colab-badge.svg\" alt=\"Open In Colab\"/></a>"
      ]
    },
    {
      "cell_type": "markdown",
      "source": [
        "Resolución de laberinto con método A estrella - Jesús Roque Armas Martín\n",
        "\n",
        "GitHub\n",
        "\n",
        "**1 Crear el MAZE** como un numpy array de 10x10 relleno de ceros\n",
        "\n",
        "**2 Ponerle los bordes a 1** dibujar los bordes\n"
      ],
      "metadata": {
        "id": "nU9-bnlQDPr_"
      }
    },
    {
      "cell_type": "code",
      "execution_count": null,
      "metadata": {
        "id": "h0aBRz03DNKT"
      },
      "outputs": [],
      "source": [
        "import random\n",
        "import numpy as np\n",
        "import matplotlib.pyplot as plt\n",
        "from collections import deque\n",
        "from IPython.display import clear_output\n",
        "\n",
        "def crear_maze(n,p):\n",
        "  #n número de filas y columnas\n",
        "  #p - porcentaje de obstáculos\n",
        "  matriz_nueva = np.zeros([n, n],dtype = int)\n",
        "  for i in range(1,n-1):\n",
        "    for j in range(1,n-1):\n",
        "      # creo todas las celdas como posibles caminos, celdas transitables\n",
        "      matriz_nueva[i][j] =127  #CAMINOS\n",
        "      #creo los bordes (muros)\n",
        "      if i==0 or j==0 or i==n-1 or j==n-1:\n",
        "        matriz_nueva[i][j] =0 #MUROS\n",
        "      if random.randint(0, 100) < p:\n",
        "        if i!=0 and i!=n-1 and j!=0 and j!=n-1:\n",
        "          matriz_nueva[i][j] = 25 #OBSTACULOS\n",
        "  matriz_nueva[1,1]=255 #entrada\n",
        "  matriz_nueva[n-2,n-2]=176 #salida\n",
        "\n",
        "  return matriz_nueva\n"
      ]
    },
    {
      "cell_type": "markdown",
      "source": [
        "**3 Crea la matriz MARK** copia de MAZE.\n"
      ],
      "metadata": {
        "id": "ZcM1xBEUcY90"
      }
    },
    {
      "cell_type": "code",
      "source": [
        "def crear_mark(n):\n",
        "  matriz_nueva = np.zeros([n,n],dtype = int)\n",
        "  for i in range(n):\n",
        "    for j in range(n):\n",
        "      #creo los bordes\n",
        "      if i==0 or j==0 or i==99 or j==99:\n",
        "        matriz_nueva[i][j] =0 #MUROS\n",
        "  return matriz_nueva"
      ],
      "metadata": {
        "id": "5dDERCUtcYYB"
      },
      "execution_count": null,
      "outputs": []
    },
    {
      "cell_type": "markdown",
      "source": [
        "Visualizar la matriz:"
      ],
      "metadata": {
        "id": "caKob_orc9WT"
      }
    },
    {
      "cell_type": "code",
      "source": [
        "def dibujar_matriz(matriz):\n",
        "  plt.figure()\n",
        "  plt.imshow(matriz)\n",
        "  plt.grid(False)\n",
        "  plt.show()"
      ],
      "metadata": {
        "id": "pHHI2v3fdLoi"
      },
      "execution_count": null,
      "outputs": []
    },
    {
      "cell_type": "markdown",
      "source": [
        "crear matriz move\n"
      ],
      "metadata": {
        "id": "KcyFFvfzAXhh"
      }
    },
    {
      "cell_type": "code",
      "source": [
        "def crear_move(diagonales):\n",
        "  #creo los primeros cuatro movimientos y, como la mitad de los valores son 0, utilizo numpy.zeros\n",
        "  if diagonales =='S':\n",
        "    move_new=np.zeros([8,2],dtype=int) # Si se ha elegido la opción de utilizar las diagonales, son 8 movimientos posibles\n",
        "  else :\n",
        "    move_new=np.zeros([4,2],dtype=int) # Si no se han elegido las diagonales, sólo son 4\n",
        "  move_new[0][1]=-1\n",
        "  move_new[1][0]=1\n",
        "  move_new[2][1]=1\n",
        "  move_new[3][0]=-1\n",
        "  #move= [(0, -1),  (1, 0),(0, 1), (-1, 0)]\n",
        "\n",
        "  if diagonales =='S':\n",
        "    # Siguiendo el esquema, añadimos los movimientos en diagonal\n",
        "    move_new[4][0]=-1\n",
        "    move_new[4][1]=-1\n",
        "    move_new[5][0]= 1\n",
        "    move_new[5][1]=-1\n",
        "    move_new[6][0]= 1\n",
        "    move_new[6][1]= 1\n",
        "    move_new[7][0]=-1\n",
        "    move_new[7][1]= 1\n",
        "    #move= [(0, -1),  (1, 0),(0, 1), (-1, 0),(-1,-1),(1,-1),(1,1),(-1,1)]\n",
        "  return move_new"
      ],
      "metadata": {
        "id": "wjtHjQQ_AaUu"
      },
      "execution_count": null,
      "outputs": []
    },
    {
      "cell_type": "markdown",
      "source": [
        "5 Crea una clase Agente con los atributos x e y que almacenan su posición actual y el método mover(2) al que se le pasa un valor de 0 a 3 y modifica sus coordenadas de la manera indicada en las flechas."
      ],
      "metadata": {
        "id": "5nOSmbxWAeVK"
      }
    },
    {
      "cell_type": "code",
      "source": [
        "class Agente:\n",
        "  def __init__(self, x, y):\n",
        "    self.x = x\n",
        "    self.y = y\n",
        "  def mover(self, t):\n",
        "      dir_x = move[t][0]\n",
        "      dir_y = move[t][1]\n",
        "      if dir_x + self.x<0:\n",
        "        dir_x=0\n",
        "      if dir_y + self.y<0:\n",
        "        dir_y=0\n",
        "      if dir_x + self.x>n-1:\n",
        "        dir_x=0\n",
        "      if dir_y + self.y>n-1:\n",
        "        dir_y=0\n",
        "      self.x += dir_x\n",
        "      self.y += dir_y"
      ],
      "metadata": {
        "id": "glV23IQMAfET"
      },
      "execution_count": null,
      "outputs": []
    },
    {
      "cell_type": "markdown",
      "source": [
        "Para la búsqueda en profundidad se usa una *Pila*.\n",
        "En la pila se almacenan las posiciones visitadas, para ello , igal que en la búsqueda en abanico, creo una clase llamada ***Place*** que contendrá los atributos de fila y columna."
      ],
      "metadata": {
        "id": "3AF26G-FIi5g"
      }
    },
    {
      "cell_type": "code",
      "source": [
        "class Place:\n",
        "  def __init__(self,columna, fila, coste ):\n",
        "    self.columna = columna\n",
        "    self.fila = fila\n",
        "    self.coste = coste\n",
        "  def mostrar (self):\n",
        "    print(\"(\" + str(self.columna) + \",\" + str(self.fila) + \")\")"
      ],
      "metadata": {
        "id": "kzYmE9v9VnAB"
      },
      "execution_count": null,
      "outputs": []
    },
    {
      "cell_type": "markdown",
      "source": [
        "Creo la función ***posicion_visitada (x,y)*** para saber si la búsqueda ha pasado por esa celda\n"
      ],
      "metadata": {
        "id": "WDMhoDgdYQta"
      }
    },
    {
      "cell_type": "code",
      "source": [
        "def posicion_visitada(x,y):\n",
        "  if mark[x][y] ==0:\n",
        "    return False\n",
        "  else:\n",
        "    return True"
      ],
      "metadata": {
        "id": "UsIeliM9YcB7"
      },
      "execution_count": null,
      "outputs": []
    },
    {
      "cell_type": "markdown",
      "source": [
        "Método para resolver en A *\n",
        "\n",
        "\n"
      ],
      "metadata": {
        "id": "paGCZJnlslSc"
      }
    },
    {
      "cell_type": "code",
      "source": [
        "def resolver_estrella(maze, mark,move,pila,place, n):\n",
        "  coste_minimo=calcula_coste(place.columna, place.fila)\n",
        "  # Mientras haya elementos en la pila\n",
        "  while len(pila)>0:\n",
        "    clear_output(wait=True)\n",
        "    dibujar_matriz(mark)\n",
        "\n",
        "    # Si llegamos a la meta (la última celda)\n",
        "    if place.fila == n-2 and place.columna == n-2: # posición(n-2,n-2) - Salida\n",
        "        return True\n",
        "    coste_actual = calcula_coste(place.columna, place.fila)\n",
        "    for direccion in range(len(move)):\n",
        "        agente= Agente(place.columna,place.fila)\n",
        "        agente.mover(direccion)\n",
        "        g,h =agente.x ,agente.y\n",
        "        if g==n-2 and h==n-2:\n",
        "          return True\n",
        "        place_actual =Place(g,h,calcula_coste(g,h) )\n",
        "        if not posicion_visitada(g,h):\n",
        "            pila.append(place_actual)\n",
        "        # Si encuentra un muro, lo pinta en MARK\n",
        "        if (g==0 or h==0 or g==n-1 or h==n-1 ) :\n",
        "          marca_visitada(g,h) # Muro\n",
        "          pila.pop()\n",
        "\n",
        "        # Si la celda está dentro del laberinto y no ha sido visitada\n",
        "        if g >= 1 and g <= n-2 and h <= n-2 and h >= 1:\n",
        "          if maze[g][h] == 25: # obstáculo\n",
        "            marca_visitada(g,h)\n",
        "            pila.pop()\n",
        "          if maze[g][h] == 127: # camino\n",
        "          # Añado la celda a la pila, calculo el coste y la marco como visitada\n",
        "            if not posicion_visitada(g,h):\n",
        "              coste_actual = calcula_coste(g,h)\n",
        "              if coste_actual < coste_minimo:\n",
        "                coste_minimo=coste_actual\n",
        "              place=Place (g,h,coste_actual)\n",
        "              pila.append(place)\n",
        "              marca_visitada(g,h)\n",
        "\n",
        "    pila= ordenar_pila(pila)\n",
        "    place=pila.pop()\n",
        "    if resolver_estrella(maze,mark,move, pila, place,n):\n",
        "      return True\n",
        "\n",
        "  # redibujo la matriz MARK después de las posibles marcas realizadas\n",
        "  clear_output(wait=True)\n",
        "  dibujar_matriz(mark)\n",
        "  return False\n"
      ],
      "metadata": {
        "id": "awQmlShLYB5N"
      },
      "execution_count": null,
      "outputs": []
    },
    {
      "cell_type": "markdown",
      "source": [
        "Método para debuguear lo que se va metiendo en la pila"
      ],
      "metadata": {
        "id": "ZQvo540n06ka"
      }
    },
    {
      "cell_type": "code",
      "source": [
        "def representar_pila(pila):\n",
        "  cadena = ''\n",
        "  for elemento in pila:\n",
        "    cadena += str(elemento.columna) + ' ' + str(elemento.fila) + ' '  + str(elemento.coste) + ' |'\n",
        "  return cadena"
      ],
      "metadata": {
        "id": "Wjyx9YVzwIS_"
      },
      "execution_count": null,
      "outputs": []
    },
    {
      "cell_type": "markdown",
      "source": [
        "Método para marcar una celda como visitada"
      ],
      "metadata": {
        "id": "zmSX-zP_1F_K"
      }
    },
    {
      "cell_type": "code",
      "source": [
        "def marca_visitada(x,y):\n",
        "  mark[x][y] = maze[x][y]"
      ],
      "metadata": {
        "id": "jQopi2uVm1a5"
      },
      "execution_count": null,
      "outputs": []
    },
    {
      "cell_type": "markdown",
      "source": [
        "Método para calcular el coste de resolución de cada celda, según distancia Manhattan"
      ],
      "metadata": {
        "id": "WKhASdG04vfL"
      }
    },
    {
      "cell_type": "code",
      "source": [
        "def calcula_coste(x,y):\n",
        "  return (n-2-x+n-2-1)"
      ],
      "metadata": {
        "id": "ntVs4h0W4Dki"
      },
      "execution_count": null,
      "outputs": []
    },
    {
      "cell_type": "markdown",
      "source": [
        "\n",
        "Metodo para ordenar la pila, en función de su coste, siempre se va a ir eligiendo el siguiente elemento que menor coste en distancia tenga, hasta llegar a la salida del laberinto\n",
        "\n"
      ],
      "metadata": {
        "id": "mdDtRbsO7zqR"
      }
    },
    {
      "cell_type": "code",
      "source": [
        "def ordenar_pila(pila):\n",
        "  stack = list(pila)\n",
        "  # ordeno por el último elemento de la clase place, el coste\n",
        "  stack.sort(key=lambda node: -node.coste)\n",
        "  # devuelvo la pila ordenada\n",
        "  return stack"
      ],
      "metadata": {
        "id": "UIXvVcj970ey"
      },
      "execution_count": null,
      "outputs": []
    },
    {
      "cell_type": "markdown",
      "source": [
        "**Programa Principal**\n",
        "Se solicitan las dimensiones del laberinto, el porcentaje de obstáculos y si se permite o no el desplazamiento en diagonal, antes de comenzar a resolverlo."
      ],
      "metadata": {
        "id": "SanZ8VD57kLz"
      }
    },
    {
      "cell_type": "code",
      "source": [
        "\n",
        "#filas y columnas\n",
        "n= int(input('Introduzca las dimensiones n del laberinto (n filas x n columnas):'))\n",
        "#porcentaje de obstáculos\n",
        "p =int(input('Introduzca el porcentaje de obstáculos (0-100):' ))\n",
        "#diagonales\n",
        "d =str(input('Se permiten las diagonales? (S/N):'))\n",
        "\n",
        "maze = crear_maze(n,p)\n",
        "mark =crear_mark(n)\n",
        "move =crear_move(d)\n",
        "dibujar_matriz (maze)\n",
        "\n",
        "# Defino la posición inicial\n",
        "coste_inicial =calcula_coste(1,1)\n",
        "inicio = Place(1,1,coste_inicial)\n",
        "coste_minimo= coste_inicial\n",
        "# Agregamos la posición inicial a la cola\n",
        "pila =[]\n",
        "pila.append (inicio)\n",
        "# Defino la posición final\n",
        "\n",
        "#marco la posición inicial en mark, como ya visitada\n",
        "marca_visitada(1,1)\n",
        "\n",
        "if resolver_estrella(maze,mark,move,pila, inicio, n):\n",
        "  marca_visitada(n-2,n-2)\n",
        "  solucion='Laberinto resuelto'\n",
        "else:\n",
        "  solucion='El laberinto no se puede resolver'\n",
        "\n",
        "clear_output(wait=True)\n",
        "print (solucion)\n",
        "print('Rutas intentadas')\n",
        "dibujar_matriz (mark)\n",
        "\n",
        "print('Original: ' +  str(n) + 'x' + str(n)  + ' ' + str(p) + '% obstáculos')\n",
        "dibujar_matriz(maze)"
      ],
      "metadata": {
        "id": "fCTkZhPFd8KI",
        "colab": {
          "base_uri": "https://localhost:8080/",
          "height": 904
        },
        "outputId": "fb25e8f1-c272-48d6-bfda-d140629e3e38"
      },
      "execution_count": null,
      "outputs": [
        {
          "output_type": "stream",
          "name": "stdout",
          "text": [
            "Laberinto resuelto\n",
            "Rutas intentadas\n"
          ]
        },
        {
          "output_type": "display_data",
          "data": {
            "text/plain": [
              "<Figure size 640x480 with 1 Axes>"
            ],
            "image/png": "[encoded data removed]"
          },
          "metadata": {}
        },
        {
          "output_type": "stream",
          "name": "stdout",
          "text": [
            "Original: 87x87 40% obstáculos\n"
          ]
        },
        {
          "output_type": "display_data",
          "data": {
            "text/plain": [
              "<Figure size 640x480 with 1 Axes>"
            ],
            "image/png": "[encoded data removed]"
          },
          "metadata": {}
        }
      ]
    },
    {
      "cell_type": "code",
      "source": [],
      "metadata": {
        "id": "ULPcykmY_Z28"
      },
      "execution_count": null,
      "outputs": []
    }
  ]
}