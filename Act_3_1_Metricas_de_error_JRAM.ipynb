{
  "nbformat": 4,
  "nbformat_minor": 0,
  "metadata": {
    "colab": {
      "provenance": [],
      "include_colab_link": true
    },
    "kernelspec": {
      "name": "python3",
      "display_name": "Python 3"
    },
    "language_info": {
      "name": "python"
    }
  },
  "cells": [
    {
      "cell_type": "markdown",
      "metadata": {
        "id": "view-in-github",
        "colab_type": "text"
      },
      "source": [
        "<a href=\"https://colab.research.google.com/github/roquearmas/pruebasIA/blob/main/Act_3_1_Metricas_de_error_JRAM.ipynb\" target=\"_parent\"><img src=\"https://colab.research.google.com/assets/colab-badge.svg\" alt=\"Open In Colab\"/></a>"
      ]
    },
    {
      "cell_type": "markdown",
      "source": [
        "23_24\n",
        "\n",
        "Actividad 3.1 - Métricas de error para los problemas de regresión\n",
        "\n",
        "Jesús Roque Armas Martín\n",
        "\n",
        "Copia en Github:\n",
        "https://github.com/roquearmas/pruebasIA/blob/main/Act_3_1_Metricas_de_error_JRAM.ipynb\n",
        "\n",
        "A partir de los ejemplos indicados realizar los ejercicios propuestos"
      ],
      "metadata": {
        "id": "irnc2RYVuYVU"
      }
    },
    {
      "cell_type": "code",
      "execution_count": 2,
      "metadata": {
        "colab": {
          "base_uri": "https://localhost:8080/"
        },
        "id": "jVLFdfzxdsfG",
        "outputId": "4c102216-11f1-4551-a852-6c1ec4c0aa8d"
      },
      "outputs": [
        {
          "output_type": "execute_result",
          "data": {
            "text/plain": [
              "0.0"
            ]
          },
          "metadata": {},
          "execution_count": 2
        }
      ],
      "source": [
        "#Error absoluto medio - mae\n",
        "from sklearn.metrics import mean_absolute_error\n",
        "# Ejemplo 1\n",
        "y_true = [2.5, 0, 2, 8]\n",
        "y_pred = [2.5, 0, 2, 8]\n",
        "\n",
        "mean_absolute_error(y_true, y_pred)\n"
      ]
    },
    {
      "cell_type": "code",
      "source": [
        "# Ejer 1: Crear dos vectores/arrays de valores ciertos y valores previstos, y calcular el mae.\n",
        "# ¿Qué valores deberían de tener el array pred para que el error fuese 0? ¿y para que error fuese de 0.25?\n"
      ],
      "metadata": {
        "id": "67XK1bXegMai"
      },
      "execution_count": null,
      "outputs": []
    },
    {
      "cell_type": "markdown",
      "source": [
        "Para que el error mae sea 0 , no se pueden calcular valores, que no sean los mismos del vector y_true, ya que la resta, en valor absoluto, siempre será positiva, si los valores de y_pred son distintos a los de y_true."
      ],
      "metadata": {
        "id": "IlOv8oluVKXX"
      }
    },
    {
      "cell_type": "code",
      "source": [
        "y_true = [2.5, 0, 2, 8]\n",
        "y_pred = [2.5, 0, 2, 8] # sumo/resto a los valores previstos, una media de 2.5 obteniendo un nuevo array y_pred\n",
        "\n",
        "mean_absolute_error(y_true, y_pred)"
      ],
      "metadata": {
        "colab": {
          "base_uri": "https://localhost:8080/"
        },
        "id": "uAvs5TA-VJjW",
        "outputId": "7ad181ed-cdaa-4939-c0f6-25008f2c6294"
      },
      "execution_count": 7,
      "outputs": [
        {
          "output_type": "execute_result",
          "data": {
            "text/plain": [
              "0.0"
            ]
          },
          "metadata": {},
          "execution_count": 7
        }
      ]
    },
    {
      "cell_type": "code",
      "source": [
        "#para que el error sea de 0.25, la diferencia media de los errores y predichos, debe tener ese valor\n",
        "y_pred = [2.75, 0.5, 2, 7.75] # sumo/resto a los valores previstos, una media de 0.25\n",
        "\n",
        "mean_absolute_error(y_true, y_pred)"
      ],
      "metadata": {
        "colab": {
          "base_uri": "https://localhost:8080/"
        },
        "id": "TJ_Wa3PGKt3t",
        "outputId": "65292529-16ce-4ffb-a39d-f0270378087e"
      },
      "execution_count": null,
      "outputs": [
        {
          "output_type": "execute_result",
          "data": {
            "text/plain": [
              "0.25"
            ]
          },
          "metadata": {},
          "execution_count": 6
        }
      ]
    },
    {
      "cell_type": "code",
      "source": [
        "# Ejemplo 2\n",
        "y_true = [[0.5, 1], [-1, 1], [7, -6]]\n",
        "y_pred = [[0, 2], [-1, 2], [8, -5]]\n",
        "mean_absolute_error(y_true, y_pred)\n"
      ],
      "metadata": {
        "id": "3LhzsD30f60T",
        "colab": {
          "base_uri": "https://localhost:8080/"
        },
        "outputId": "15739365-471b-4172-ec1a-d826eddab7cb"
      },
      "execution_count": null,
      "outputs": [
        {
          "output_type": "execute_result",
          "data": {
            "text/plain": [
              "0.75"
            ]
          },
          "metadata": {},
          "execution_count": 69
        }
      ]
    },
    {
      "cell_type": "code",
      "source": [
        "# Error cuadrático medio - mse\n",
        "from sklearn.metrics import mean_squared_error\n",
        "y_true = [3, -0.5, 2, 7]\n",
        "y_pred = [2.5, 0.0, 2, 8]\n",
        "mean_squared_error(y_true, y_pred)"
      ],
      "metadata": {
        "colab": {
          "base_uri": "https://localhost:8080/"
        },
        "id": "fTTse6TTYgPN",
        "outputId": "5cff0999-526d-4b21-fb99-426994046af1"
      },
      "execution_count": 6,
      "outputs": [
        {
          "output_type": "execute_result",
          "data": {
            "text/plain": [
              "0.375"
            ]
          },
          "metadata": {},
          "execution_count": 6
        }
      ]
    },
    {
      "cell_type": "code",
      "source": [
        "# Ejer 2: Crear dos matrices/arrays de valores ciertos y valores previstos, y calcular el mae.\n",
        "# ¿Qué valores deberían de tener el array pred para que el error fuese 0? ¿y para que error fuese de 0.33?\n"
      ],
      "metadata": {
        "id": "LnPx6A4Astfq"
      },
      "execution_count": null,
      "outputs": []
    },
    {
      "cell_type": "markdown",
      "source": [
        "Para que el error fuese 0 hay dos posibilidades, que no exista diferencia entre ambos arrays o que la sumatoria de las diferencias, al cuadrado, sea 0.\n",
        "\n",
        "Para que la sumatoria de las diferencias, al cuadrado sea 0, no hay valores posibles, diferentes a los de y_true, ya que , al calcularse con el valor absoluto de las diferencias, la sumatoria siempre es positiva.\n"
      ],
      "metadata": {
        "id": "abtrCZ4-L3Al"
      }
    },
    {
      "cell_type": "code",
      "source": [
        "y_pred = [[0.5, 1], [-1, 1], [7, -6]] #  y_pred? = y_true -> lógica\n",
        "\n",
        "mean_absolute_error(y_true, y_pred)"
      ],
      "metadata": {
        "colab": {
          "base_uri": "https://localhost:8080/"
        },
        "id": "IUXoU3xDMBzX",
        "outputId": "c15cbc61-7092-426b-e421-fa61068c5462"
      },
      "execution_count": null,
      "outputs": [
        {
          "output_type": "execute_result",
          "data": {
            "text/plain": [
              "0.0"
            ]
          },
          "metadata": {},
          "execution_count": 70
        }
      ]
    },
    {
      "cell_type": "markdown",
      "source": [
        "Para que el valor de mean_absolute error sea de 0.33, la sumatoria de las diferencias debe ser 1.98, ya que, al dividir ese número por N, que vale 6 en este caso, la diferencia será .033"
      ],
      "metadata": {
        "id": "Db-N5o01Wqvh"
      }
    },
    {
      "cell_type": "code",
      "source": [
        "y_pred = [[1,1], [-0.5,1.98], [7,-6]]\n",
        "\n",
        "mean_absolute_error(y_true, y_pred)\n"
      ],
      "metadata": {
        "colab": {
          "base_uri": "https://localhost:8080/"
        },
        "id": "pQMgS-vIMPnc",
        "outputId": "9b10b3de-9a04-415d-8344-3b9d401d67cf"
      },
      "execution_count": null,
      "outputs": [
        {
          "output_type": "execute_result",
          "data": {
            "text/plain": [
              "0.32999999999999996"
            ]
          },
          "metadata": {},
          "execution_count": 63
        }
      ]
    },
    {
      "cell_type": "code",
      "source": [
        "# Error cuadrático medio - mse\n",
        "from sklearn.metrics import mean_squared_error\n",
        "y_true = [3, -0.5, 2, 7]\n",
        "y_pred = [2.5, 0.0, 2, 8]\n",
        "mean_squared_error(y_true, y_pred)\n"
      ],
      "metadata": {
        "colab": {
          "base_uri": "https://localhost:8080/"
        },
        "id": "59efr-GWgKP6",
        "outputId": "9452ecbd-f5aa-4684-d019-fe5e60686bb4"
      },
      "execution_count": null,
      "outputs": [
        {
          "output_type": "execute_result",
          "data": {
            "text/plain": [
              "0.375"
            ]
          },
          "metadata": {},
          "execution_count": 31
        }
      ]
    },
    {
      "cell_type": "code",
      "source": [
        "# Ejer 3: Crear dos vectores/arrays de valores ciertos y valores previstos, y calcular el mse.\n",
        "# ¿Qué valores deberían de tener el array pred para que el error fuese 0? ¿y para que error fuese de 0.25?\n",
        "# Nota: Es muy interesante comparar los resultados al aplicaer mae y mse sobre el mismo conjunto de datos. Podrás obervar\n",
        "#       que mse \"penaliza más\" (es decir, el número que se obtiene es mayor) con las diferencias entre los valores originales y los predichos que mae\n"
      ],
      "metadata": {
        "id": "FLZt6j17u7sE"
      },
      "execution_count": null,
      "outputs": []
    },
    {
      "cell_type": "markdown",
      "source": [
        "De manera análoga al ejercicio anterior, al sumarse las diferencias al cuadrado, no hay manera de obtener valores para el segundo array, que devengan en un mse=0, sin igualar los datos a los del primer array. Podría lograrse con númneros complejos, o imaginarios (un número real , por la constante i, que es la raíz cuadrada de -1).\n",
        "En la práctiva, el MSE se utiliza como medida de error, en el dominio de los números reales. En otros contextos, donde los valores pueden ser números complejos, a menudo se utilizan otras métricas de error que son más apropiadas para este tipo de valores."
      ],
      "metadata": {
        "id": "w7MrIQmwYjgR"
      }
    },
    {
      "cell_type": "code",
      "source": [
        "y_true = [3, -0.5, 2, 7]\n",
        "y_pred = [3, -0.5, 2, 7]\n",
        "mean_squared_error(y_true, y_pred)"
      ],
      "metadata": {
        "colab": {
          "base_uri": "https://localhost:8080/"
        },
        "id": "NTx-kxEvYi2w",
        "outputId": "837ef38e-77f9-4cf6-dc8d-38c63ee7317e"
      },
      "execution_count": null,
      "outputs": [
        {
          "output_type": "execute_result",
          "data": {
            "text/plain": [
              "0.0"
            ]
          },
          "metadata": {},
          "execution_count": 32
        }
      ]
    },
    {
      "cell_type": "markdown",
      "source": [
        "Para que el MSE de 0.25, la suma de las diferencias al cuadrado, debe dar 1, ya que son 4 elementos"
      ],
      "metadata": {
        "id": "yLemV8iIZsjx"
      }
    },
    {
      "cell_type": "code",
      "source": [
        "y_pred = [3.5, -1, 2.5, 6.5] # cuatro diferencias de 0.5, al elevar cada una de ellas al cuadrado, dan 0.25. Sumándolas todas, da 1\n",
        "mean_squared_error(y_true, y_pred)\n"
      ],
      "metadata": {
        "colab": {
          "base_uri": "https://localhost:8080/"
        },
        "id": "nqVCOjnRZ5bJ",
        "outputId": "fee224fc-60c8-4c09-beca-5ca8d1ddd507"
      },
      "execution_count": null,
      "outputs": [
        {
          "output_type": "execute_result",
          "data": {
            "text/plain": [
              "0.25"
            ]
          },
          "metadata": {},
          "execution_count": 37
        }
      ]
    },
    {
      "cell_type": "code",
      "source": [
        "# Ejer 4: Crear dos matrices/arrays de valores ciertos y valores previstos, y calcular el mae.\n",
        "# ¿Qué valores deberían de tener el array pred para que el error fuese 0? ¿y para que error fuese de 0.33?\n"
      ],
      "metadata": {
        "id": "M9nZd4nLvIRB"
      },
      "execution_count": null,
      "outputs": []
    },
    {
      "cell_type": "markdown",
      "source": [
        "Como decía en el ejercicio 3, Para que la sumatoria de las diferencias, al cuadrado sea 0, no hay valores posibles,diferentes a los de y_true, ya que , al calcularse con el valor absoluto de las diferencias, si tratamos con números reales, la sumatoria siempre es positiva."
      ],
      "metadata": {
        "id": "vtkaKpstb0wv"
      }
    },
    {
      "cell_type": "code",
      "source": [
        "y_true = [[1,1.5],[2,2.5],[4,-3]]\n",
        "y_pred = [[1,1.5],[2,2.5],[4,-3]]\n",
        "mean_absolute_error(y_true, y_pred)"
      ],
      "metadata": {
        "colab": {
          "base_uri": "https://localhost:8080/"
        },
        "id": "KIh6tb1VcBu3",
        "outputId": "24ad3b20-c21d-4963-e620-77c6ce7bd8c1"
      },
      "execution_count": null,
      "outputs": [
        {
          "output_type": "execute_result",
          "data": {
            "text/plain": [
              "0.0"
            ]
          },
          "metadata": {},
          "execution_count": 55
        }
      ]
    },
    {
      "cell_type": "markdown",
      "source": [
        "Para que el mae de 0.33 la suma de las diferencias debe dar 1.98, para que luego, al dividirla por el número de elementos (6), de 0.33"
      ],
      "metadata": {
        "id": "Qcp__9H-caeP"
      }
    },
    {
      "cell_type": "code",
      "source": [
        "y_pred = [[1,2],[2,3],[4,-3.98]]\n",
        "mean_absolute_error(y_true, y_pred)"
      ],
      "metadata": {
        "colab": {
          "base_uri": "https://localhost:8080/"
        },
        "id": "ojZBuaIpclup",
        "outputId": "dc42fac4-cd5d-4b0d-eb8b-620ecf416788"
      },
      "execution_count": null,
      "outputs": [
        {
          "output_type": "execute_result",
          "data": {
            "text/plain": [
              "0.33"
            ]
          },
          "metadata": {},
          "execution_count": 57
        }
      ]
    },
    {
      "cell_type": "code",
      "source": [
        "# Error de porcentaje absoluto medio - mape\n",
        "from sklearn.metrics import mean_absolute_percentage_error\n",
        "y_true = [3, -0.5, 2, 7]\n",
        "y_pred = [2.5, 0.0, 2, 8]\n",
        "mean_absolute_percentage_error(y_true, y_pred)"
      ],
      "metadata": {
        "colab": {
          "base_uri": "https://localhost:8080/"
        },
        "id": "0j3DDJPnBTmF",
        "outputId": "f0a7c3a5-fa06-4a5e-ab15-ca198f287cd0"
      },
      "execution_count": 9,
      "outputs": [
        {
          "output_type": "execute_result",
          "data": {
            "text/plain": [
              "0.3273809523809524"
            ]
          },
          "metadata": {},
          "execution_count": 9
        }
      ]
    },
    {
      "cell_type": "code",
      "source": [
        "# Ejer 5: Crear dos vectores/arrays de valores ciertos y valores previstos, y calcular el mape.\n",
        "# ¿Qué valores deberían de tener el array pred para que el error fuese 0?\n"
      ],
      "metadata": {
        "id": "0vsYXdRqB0TE"
      },
      "execution_count": null,
      "outputs": []
    },
    {
      "cell_type": "markdown",
      "source": [
        "Por el mismo motivo que en el ejercicio 2, si sumamos el valor absoluto de las diferencias, es imposible obtener 0, a no ser que todas las diferencias den 0, lo que implica que y_pred debe ser igual a y_true, o todos los valores ser igual a 0, por lo que, también, los arrays serían iguales"
      ],
      "metadata": {
        "id": "vO-TlgVCeNlQ"
      }
    },
    {
      "cell_type": "code",
      "source": [
        "y_true = [3, -0.5, 2, 7]\n",
        "y_pred = y_true\n",
        "mean_absolute_percentage_error(y_true, y_pred)"
      ],
      "metadata": {
        "colab": {
          "base_uri": "https://localhost:8080/"
        },
        "id": "ViaRagF8eOG2",
        "outputId": "2de67d24-5d66-4b8e-c462-8c10edad1923"
      },
      "execution_count": null,
      "outputs": [
        {
          "output_type": "execute_result",
          "data": {
            "text/plain": [
              "0.0"
            ]
          },
          "metadata": {},
          "execution_count": 66
        }
      ]
    },
    {
      "cell_type": "code",
      "source": [
        "# Ejer 6: Crear dos matrices/arrays de valores ciertos y valores previstos, y calcular el MAPE.\n",
        "# ¿Qué valores deberían de tener el array pred para que el error fuese 0?"
      ],
      "metadata": {
        "id": "085pmFVO-cA3"
      },
      "execution_count": null,
      "outputs": []
    },
    {
      "cell_type": "code",
      "source": [
        "y_true = [7,2,15,23,14]\n",
        "y_pred = [4,3,12,-2,43]\n",
        "mean_absolute_percentage_error(y_true, y_pred)"
      ],
      "metadata": {
        "colab": {
          "base_uri": "https://localhost:8080/"
        },
        "id": "ZLjwterVgFHG",
        "outputId": "5e9fdbd4-7050-4982-b260-d89b1fda9acd"
      },
      "execution_count": 10,
      "outputs": [
        {
          "output_type": "execute_result",
          "data": {
            "text/plain": [
              "0.8573913043478261"
            ]
          },
          "metadata": {},
          "execution_count": 10
        }
      ]
    },
    {
      "cell_type": "markdown",
      "source": [
        "Para que dé 0, en este caso, igualamos ambos arrays a 0"
      ],
      "metadata": {
        "id": "BjGm_vDhgSle"
      }
    },
    {
      "cell_type": "code",
      "source": [
        "y_true = [0,0,0,0,0]\n",
        "y_pred = [0,0,0,0,0]\n",
        "mean_absolute_percentage_error(y_true, y_pred)"
      ],
      "metadata": {
        "colab": {
          "base_uri": "https://localhost:8080/"
        },
        "id": "YOkzTStIgSae",
        "outputId": "da1daa49-68f2-44ee-b6d3-d525b9301f11"
      },
      "execution_count": null,
      "outputs": [
        {
          "output_type": "execute_result",
          "data": {
            "text/plain": [
              "0.0"
            ]
          },
          "metadata": {},
          "execution_count": 68
        }
      ]
    }
  ]
}