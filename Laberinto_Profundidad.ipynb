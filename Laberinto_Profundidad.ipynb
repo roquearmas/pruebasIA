{
  "nbformat": 4,
  "nbformat_minor": 0,
  "metadata": {
    "colab": {
      "provenance": [],
      "authorship_tag": "ABX9TyPdoA8Qaph4lfEd/ut2dF+/",
      "include_colab_link": true
    },
    "kernelspec": {
      "name": "python3",
      "display_name": "Python 3"
    },
    "language_info": {
      "name": "python"
    }
  },
  "cells": [
    {
      "cell_type": "markdown",
      "metadata": {
        "id": "view-in-github",
        "colab_type": "text"
      },
      "source": [
        "<a href=\"https://colab.research.google.com/github/roquearmas/pruebasIA/blob/main/Laberinto_Profundidad.ipynb\" target=\"_parent\"><img src=\"https://colab.research.google.com/assets/colab-badge.svg\" alt=\"Open In Colab\"/></a>"
      ]
    },
    {
      "cell_type": "markdown",
      "source": [
        "Resolución de Laberinto en profundidad - Jesús Roque Armas Martín\n",
        "\n",
        "**1 Crear el MAZE** como un numpy array de 10x10 relleno de ceros\n",
        "\n",
        "**2 Ponerle los bordes a 0** dibujar los bordes\n"
      ],
      "metadata": {
        "id": "nU9-bnlQDPr_"
      }
    },
    {
      "cell_type": "code",
      "execution_count": null,
      "metadata": {
        "id": "h0aBRz03DNKT"
      },
      "outputs": [],
      "source": [
        "import random\n",
        "import numpy as np\n",
        "import matplotlib.pyplot as plt\n",
        "from collections import deque\n",
        "from IPython.display import clear_output\n",
        "\n",
        "def crear_maze(n,p):\n",
        "  #n número de filas y columnas\n",
        "  #p - porcentaje de obstáculos\n",
        "  matriz_nueva = np.zeros([n, n],dtype = int)\n",
        "  for i in range(1,n-1):\n",
        "    for j in range(1,n-1):\n",
        "      # creo todas las celdas como posibles caminos, celdas transitables\n",
        "      matriz_nueva[i][j] =127  #CAMINOS\n",
        "      #creo los bordes (muros)\n",
        "      if i==0 or j==0 or i==n-1 or j==n-1:\n",
        "        matriz_nueva[i][j] =0 #MUROS\n",
        "      if random.randint(0, 100) < p:\n",
        "        if i!=0 and i!=n-1 and j!=0 and j!=n-1:\n",
        "          matriz_nueva[i][j] = 25 #OBSTACULOS\n",
        "  matriz_nueva[1,1]=255 #entrada\n",
        "  matriz_nueva[n-2,n-2]=176 #salida\n",
        "\n",
        "  return matriz_nueva\n"
      ]
    },
    {
      "cell_type": "markdown",
      "source": [
        "**3 Crea la matriz MARK** copia de MAZE.\n"
      ],
      "metadata": {
        "id": "ZcM1xBEUcY90"
      }
    },
    {
      "cell_type": "code",
      "source": [
        "def crear_mark(n):\n",
        "  matriz_nueva = np.zeros([n,n],dtype = int)\n",
        "  for i in range(n):\n",
        "    for j in range(n):\n",
        "      #creo los bordes\n",
        "      if i==0 or j==0 or i==99 or j==99:\n",
        "        matriz_nueva[i][j] =0 #MUROS\n",
        "  return matriz_nueva"
      ],
      "metadata": {
        "id": "5dDERCUtcYYB"
      },
      "execution_count": null,
      "outputs": []
    },
    {
      "cell_type": "markdown",
      "source": [
        "Visualizar la matriz:"
      ],
      "metadata": {
        "id": "caKob_orc9WT"
      }
    },
    {
      "cell_type": "code",
      "source": [
        "def dibujar_matriz(matriz):\n",
        "  plt.figure()\n",
        "  plt.imshow(matriz)\n",
        "  plt.grid(False)\n",
        "  plt.show()"
      ],
      "metadata": {
        "id": "pHHI2v3fdLoi"
      },
      "execution_count": null,
      "outputs": []
    },
    {
      "cell_type": "markdown",
      "source": [
        "crear matriz move\n"
      ],
      "metadata": {
        "id": "KcyFFvfzAXhh"
      }
    },
    {
      "cell_type": "code",
      "source": [
        "def crear_move(diagonales):\n",
        "  #creo los primeros cuatro movimientos y, como la mitad de los valores son 0, utilizo numpy.zeros\n",
        "  if diagonales =='S':\n",
        "    move_new=np.zeros([8,2],dtype=int) # Si se ha elegido la opción de utilizar las diagonales, son 8 movimientos posibles\n",
        "  else :\n",
        "    move_new=np.zeros([4,2],dtype=int) # Si no se han elegido las diagonales, sólo son 4\n",
        "  move_new[0][1]=-1\n",
        "  move_new[1][0]=1\n",
        "  move_new[2][1]=1\n",
        "  move_new[3][0]=-1\n",
        "  #move= [(0, -1),  (1, 0),(0, 1), (-1, 0)]\n",
        "\n",
        "  if diagonales =='S':\n",
        "    # Siguiendo el esquema, añadimos los movimientos en diagonal\n",
        "    move_new[4][0]=-1\n",
        "    move_new[4][1]=-1\n",
        "    move_new[5][0]= 1\n",
        "    move_new[5][1]=-1\n",
        "    move_new[6][0]= 1\n",
        "    move_new[6][1]= 1\n",
        "    move_new[7][0]=-1\n",
        "    move_new[7][1]= 1\n",
        "    #move= [(0, -1),  (1, 0),(0, 1), (-1, 0),(-1,-1),(1,-1),(1,1),(-1,1)]\n",
        "  return move_new"
      ],
      "metadata": {
        "id": "wjtHjQQ_AaUu"
      },
      "execution_count": null,
      "outputs": []
    },
    {
      "cell_type": "markdown",
      "source": [
        "5 Crea una clase Agente con los atributos x e y que almacenan su posición actual y el método mover(2) al que se le pasa un valor de 0 a 3 y modifica sus coordenadas de la manera indicada en las flechas."
      ],
      "metadata": {
        "id": "5nOSmbxWAeVK"
      }
    },
    {
      "cell_type": "code",
      "source": [
        "class Agente:\n",
        "  def __init__(self, x, y):\n",
        "    self.x = x\n",
        "    self.y = y\n",
        "  def mover(self, t):\n",
        "      dir_x = move[t][0]\n",
        "      dir_y = move[t][1]\n",
        "      if dir_x + self.x<0:\n",
        "        dir_x=0\n",
        "      if dir_y + self.y<0:\n",
        "        dir_y=0\n",
        "      if dir_x + self.x>n-1:\n",
        "        dir_x=0\n",
        "      if dir_y + self.y>n-1:\n",
        "        dir_y=0\n",
        "      self.x += dir_x\n",
        "      self.y += dir_y"
      ],
      "metadata": {
        "id": "glV23IQMAfET"
      },
      "execution_count": null,
      "outputs": []
    },
    {
      "cell_type": "markdown",
      "source": [
        "Para la búsqueda en profundidad se usa una *Pila*.\n",
        "En la pila se almacenan las posiciones visitadas, para ello , igal que en la búsqueda en abanico, creo una clase llamada ***Place*** que contendrá los atributos de fila y columna."
      ],
      "metadata": {
        "id": "3AF26G-FIi5g"
      }
    },
    {
      "cell_type": "code",
      "source": [
        "class Place:\n",
        "  def __init__(self,columna, fila ):\n",
        "    self.columna = columna\n",
        "    self.fila = fila\n",
        "  def mostrar (self):\n",
        "    print(\"(\" + str(self.columna) + \",\" + str(self.fila) + \")\")"
      ],
      "metadata": {
        "id": "kzYmE9v9VnAB"
      },
      "execution_count": null,
      "outputs": []
    },
    {
      "cell_type": "markdown",
      "source": [
        "Creo la función ***posicion_visitada (x,y)*** para saber si la búsqueda ha pasado por esa celda\n"
      ],
      "metadata": {
        "id": "WDMhoDgdYQta"
      }
    },
    {
      "cell_type": "code",
      "source": [
        "def posicion_visitada(x,y):\n",
        "  if mark[x][y] ==0:\n",
        "    return False\n",
        "  else:\n",
        "    return True"
      ],
      "metadata": {
        "id": "UsIeliM9YcB7"
      },
      "execution_count": null,
      "outputs": []
    },
    {
      "cell_type": "markdown",
      "source": [
        "Método para resolver en profundidad\n",
        "\n",
        "\n"
      ],
      "metadata": {
        "id": "paGCZJnlslSc"
      }
    },
    {
      "cell_type": "code",
      "source": [
        "def resolver_profundidad(maze, mark,move,pila,place, n):\n",
        "  # Mientras haya elementos en la pila\n",
        "  while pila:\n",
        "    clear_output(wait=True)\n",
        "    dibujar_matriz(mark)\n",
        "\n",
        "    # Si llegamos a la meta (la última celda)\n",
        "    if place.fila == n-2 and place.columna == n-2: # posición(n-2,n-2) - Salida\n",
        "        marca_visitada(place.columna, place.fila)\n",
        "        return True\n",
        "\n",
        "    for direccion in range(len(move)):\n",
        "        agente= Agente(place.columna,place.fila)\n",
        "        g,h =agente.x ,agente.y\n",
        "        agente.mover(direccion)\n",
        "        g,h =agente.x ,agente.y\n",
        "        place_actual =Place(agente.x,agente.y)\n",
        "        if not posicion_visitada(g,h):\n",
        "            pila.append(place_actual)\n",
        "        # Si encuentra un muro, lo pinta en MARK\n",
        "        if (g==0 or h==0 or g==n-1 or h==n-1 ) :\n",
        "          marca_visitada(g,h) # Muro\n",
        "          pila.pop()\n",
        "\n",
        "        # Si la celda está dentro del laberinto y no ha sido visitada\n",
        "        if g >= 1 and g <= n-2 and h <= n-2 and h >= 1:\n",
        "          if maze[g][h] == 25: # obstáculo\n",
        "            marca_visitada(g,h)\n",
        "            pila.pop()\n",
        "          if maze[g][h] == 127: # camino\n",
        "          # Añado la celda a la pila y lo marco como visitada\n",
        "            if not posicion_visitada(g,h):\n",
        "              marca_visitada(g,h)\n",
        "\n",
        "    place=pila.pop()\n",
        "    if resolver_profundidad(maze,mark,move, pila, place,n):\n",
        "         marca_visitada(place.columna, place.fila)\n",
        "         return True\n",
        "\n",
        "  # redibujo la matriz MARK después de las posibles marcas realizadas\n",
        "  clear_output(wait=True)\n",
        "  dibujar_matriz(mark)\n",
        "  return False\n"
      ],
      "metadata": {
        "id": "awQmlShLYB5N"
      },
      "execution_count": null,
      "outputs": []
    },
    {
      "cell_type": "markdown",
      "source": [
        "Método para debuguear lo que se va metiendo en la pila"
      ],
      "metadata": {
        "id": "ZQvo540n06ka"
      }
    },
    {
      "cell_type": "code",
      "source": [
        "def representar_pila(pila):\n",
        "  cadena = ''\n",
        "  for elemento in pila:\n",
        "    cadena += str(elemento.columna) + ' ' + str(elemento.fila) + ' '\n",
        "  return cadena"
      ],
      "metadata": {
        "id": "Wjyx9YVzwIS_"
      },
      "execution_count": null,
      "outputs": []
    },
    {
      "cell_type": "markdown",
      "source": [
        "Método para marcar una celda como visitada"
      ],
      "metadata": {
        "id": "zmSX-zP_1F_K"
      }
    },
    {
      "cell_type": "code",
      "source": [
        "def marca_visitada(x,y):\n",
        "  mark[x][y] = maze[x][y]"
      ],
      "metadata": {
        "id": "jQopi2uVm1a5"
      },
      "execution_count": null,
      "outputs": []
    },
    {
      "cell_type": "code",
      "source": [
        "#programa principal\n",
        "#filas y columnas\n",
        "n= int(input('Introduzca las dimensiones n del laberinto (n filas x n columnas):'))\n",
        "#porcentaje de obstáculos\n",
        "p =int(input('Introduzca el porcentaje de obstáculos (0-100):' ))\n",
        "#diagonales\n",
        "d =str(input('Se permiten las diagonales? (S/N):'))\n",
        "\n",
        "maze = crear_maze(n,p)\n",
        "mark =crear_mark(n)\n",
        "move =crear_move(d)\n",
        "dibujar_matriz (maze)\n",
        "\n",
        "# Defino la posición inicial\n",
        "inicio = Place(1,1)\n",
        "# Agregamos la posición inicial a la cola\n",
        "pila =[]\n",
        "pila.append (inicio)\n",
        "# Defino la posición final\n",
        "\n",
        "#marco la posición inicial en mark, como ya visitada\n",
        "marca_visitada(1,1)\n",
        "\n",
        "if resolver_profundidad(maze,mark,move,pila, inicio, n):\n",
        "  solucion='Laberinto resuelto'\n",
        "else:\n",
        "  solucion='El laberinto no se puede resolver'\n",
        "\n",
        "clear_output(wait=True)\n",
        "print (solucion)\n",
        "print('Rutas intentadas')\n",
        "dibujar_matriz (mark)\n",
        "\n",
        "print('Original: ' +  str(n) + 'x' + str(n)  + ' ' + str(p) + '% obstáculos')\n",
        "dibujar_matriz(maze)"
      ],
      "metadata": {
        "id": "fCTkZhPFd8KI",
        "colab": {
          "base_uri": "https://localhost:8080/",
          "height": 1000
        },
        "outputId": "c7698296-b084-4033-bf17-545e21464a3c"
      },
      "execution_count": null,
      "outputs": [
        {
          "output_type": "display_data",
          "data": {
            "text/plain": [
              "<Figure size 640x480 with 1 Axes>"
            ],
            "image/png": "[encoded data removed]"
          },
          "metadata": {}
        },
        {
          "output_type": "stream",
          "name": "stdout",
          "text": [
            "Laberinto resuelto\n",
            "Rutas intentadas\n"
          ]
        },
        {
          "output_type": "display_data",
          "data": {
            "text/plain": [
              "<Figure size 640x480 with 1 Axes>"
            ],
            "image/png": "[encoded data removed]"
          },
          "metadata": {}
        },
        {
          "output_type": "stream",
          "name": "stdout",
          "text": [
            "Original: 16x16 22% obstáculos\n"
          ]
        },
        {
          "output_type": "display_data",
          "data": {
            "text/plain": [
              "<Figure size 640x480 with 1 Axes>"
            ],
            "image/png": "[encoded data removed]"
          },
          "metadata": {}
        }
      ]
    },
    {
      "cell_type": "code",
      "source": [],
      "metadata": {
        "id": "ULPcykmY_Z28"
      },
      "execution_count": null,
      "outputs": []
    }
  ]
}